{
 "cells": [
  {
   "cell_type": "markdown",
   "id": "c242d497-cf9c-4aa1-8da2-09d99bfd3025",
   "metadata": {},
   "source": [
    "# if - elif - else"
   ]
  },
  {
   "cell_type": "code",
   "execution_count": 4,
   "id": "273e98bf-9693-463c-be8f-583d83dfc636",
   "metadata": {},
   "outputs": [
    {
     "name": "stdin",
     "output_type": "stream",
     "text": [
      "Enter use age 2\n"
     ]
    },
    {
     "name": "stdout",
     "output_type": "stream",
     "text": [
      "Hurray !!! you are eligible for free Tickets\n"
     ]
    }
   ],
   "source": [
    "#1.\tTicket Price Calculator:\n",
    "user_age = int(input(\"Enter use age\"))\n",
    "\n",
    "if 0 < user_age <= 5:\n",
    "    print(\"Hurray !!! you are eligible for free Tickets\")\n",
    "elif 6 <= user_age <=18:\n",
    "    print(f\"Ticke price : {5.00}\")\n",
    "elif 10 <= user_age <= 60:\n",
    "    print(f\"Ticke price : {10.00}\")\n",
    "elif user_age >= 61:\n",
    "    print(\"Congrats Sir!!! you are eligible for free Tickets\")"
   ]
  },
  {
   "cell_type": "code",
   "execution_count": 7,
   "id": "214991b8-8bb4-447a-a87c-2303d1fe9448",
   "metadata": {},
   "outputs": [
    {
     "name": "stdin",
     "output_type": "stream",
     "text": [
      "Enter any integer -12\n"
     ]
    },
    {
     "name": "stdout",
     "output_type": "stream",
     "text": [
      "-12 is negative number\n"
     ]
    }
   ],
   "source": [
    "#2.\tNumber Sign Detector\n",
    "num = int(input(\"Enter any integer\"))\n",
    "\n",
    "if num < 0:\n",
    "    print(f\"{num} is negative number\")\n",
    "elif num > 0:\n",
    "    print(f\"{num} is positive number\")\n",
    "else:\n",
    "    print(f\"{num} = Zero\")"
   ]
  },
  {
   "cell_type": "code",
   "execution_count": 3,
   "id": "31e0b1c3-f5df-4418-a1f5-5fc79a8b006d",
   "metadata": {},
   "outputs": [
    {
     "name": "stdin",
     "output_type": "stream",
     "text": [
      "Enter a Password 1234567891123\n"
     ]
    },
    {
     "name": "stdout",
     "output_type": "stream",
     "text": [
      "Stronger\n"
     ]
    }
   ],
   "source": [
    "#3.\tPassword Strength Checker (Length):\n",
    "user_password = input(\"Enter a Password\")\n",
    "\n",
    "if len(user_password) >= 12:\n",
    "    print(\"Stronger\")\n",
    "elif 8 <= len(user_password) <12:\n",
    "    print(\"Medium\")\n",
    "elif len(user_password) < 8:\n",
    "    print(\"Weak\")"
   ]
  },
  {
   "cell_type": "code",
   "execution_count": 4,
   "id": "98753897-6ebd-431f-b5a0-69876e7487f3",
   "metadata": {},
   "outputs": [
    {
     "name": "stdin",
     "output_type": "stream",
     "text": [
      "Enter a colors (red,yellow,green) red\n"
     ]
    },
    {
     "name": "stdout",
     "output_type": "stream",
     "text": [
      "Stop\n"
     ]
    }
   ],
   "source": [
    "#4.\tTraffic Light Simulator:\n",
    "user = input(\"Enter a colors (red,yellow,green)\")\n",
    "if user == \"red\":\n",
    "    print(\"Stop\")\n",
    "elif user == \"yellow\":\n",
    "    print(\"Proceed with caution\")\n",
    "elif user == \"green\":\n",
    "    print(\"Go\")\n",
    "else:\n",
    "    print(\"Invalid color for traffic light\")"
   ]
  },
  {
   "cell_type": "code",
   "execution_count": 6,
   "id": "51cec20f-1da0-4785-89ab-019307b8d0c7",
   "metadata": {},
   "outputs": [
    {
     "name": "stdin",
     "output_type": "stream",
     "text": [
      "Enter a year 2012\n"
     ]
    },
    {
     "name": "stdout",
     "output_type": "stream",
     "text": [
      "2012 is a leap Year\n"
     ]
    }
   ],
   "source": [
    "#5.\tLeap Year Check (Simple):\n",
    "user = int(input(\"Enter a year\"))\n",
    "\n",
    "if user % 4 == 0:\n",
    "    print(f\"{user} is a leap Year\")\n",
    "else:\n",
    "    print(f\"{user} is not a leap year\")"
   ]
  },
  {
   "cell_type": "code",
   "execution_count": 11,
   "id": "3cdd28d7-c4f5-47cd-a375-754b4add264b",
   "metadata": {},
   "outputs": [
    {
     "name": "stdin",
     "output_type": "stream",
     "text": [
      "Enter a programming language : Python\n"
     ]
    },
    {
     "name": "stdout",
     "output_type": "stream",
     "text": [
      "Correct\n"
     ]
    }
   ],
   "source": [
    "#6.\tCase-Sensitive Input:\n",
    "user = input(\"Enter a programming language :\")\n",
    "\n",
    "if user == \"Python\":\n",
    "    print(\"Correct\")\n",
    "elif user == \"python\":\n",
    "    print(\"Close, but capitalization matter here\")\n",
    "else:\n",
    "    print(\"Incorrect\")"
   ]
  },
  {
   "cell_type": "code",
   "execution_count": 19,
   "id": "03f53c8b-67ee-433a-8ec0-96f7518d2bc7",
   "metadata": {},
   "outputs": [
    {
     "name": "stdin",
     "output_type": "stream",
     "text": [
      "Enter a number between 1 tp 100 54\n"
     ]
    },
    {
     "name": "stdout",
     "output_type": "stream",
     "text": [
      "High even\n"
     ]
    }
   ],
   "source": [
    "#7.\tOdd/Even and Range:\n",
    "user = int(input(\"Enter a number between 1 tp 100\"))\n",
    "\n",
    "if user < 1 or user > 100:\n",
    "    print(\"Out of the range\")\n",
    "elif user % 2 == 0 and user > 50:\n",
    "    print(\"High even\")\n",
    "elif user % 2 != 0 and user < 50:\n",
    "    print(\"Low odd\")\n",
    "else:\n",
    "    print(\"Other\")\n",
    "    "
   ]
  },
  {
   "cell_type": "code",
   "execution_count": 25,
   "id": "70658a2f-6d31-4a2c-baa1-80da634bf262",
   "metadata": {},
   "outputs": [
    {
     "name": "stdin",
     "output_type": "stream",
     "text": [
      "Enter a user Name admin\n",
      "Enter a password sdskk\n"
     ]
    },
    {
     "name": "stdout",
     "output_type": "stream",
     "text": [
      "Invalid password\n"
     ]
    }
   ],
   "source": [
    "#8.\tNested Conditional (Login):\n",
    "username = \"admin\"\n",
    "password = \"secret\"\n",
    "\n",
    "user_name = input(\"Enter a user Name\")\n",
    "\n",
    "if user_name == username:\n",
    "    \n",
    "    pass_word = input(\"Enter a password\")\n",
    "    if pass_word == password:\n",
    "        print(\"Login Succesful\")\n",
    "    else:\n",
    "        print(\"Invalid password\")\n",
    "else:\n",
    "    print(\"Invalid Username\")"
   ]
  },
  {
   "cell_type": "code",
   "execution_count": 29,
   "id": "8f694e14-854f-45fd-b7be-59b6f2ef00d5",
   "metadata": {},
   "outputs": [
    {
     "name": "stdin",
     "output_type": "stream",
     "text": [
      "Enter your age 17\n"
     ]
    },
    {
     "name": "stdout",
     "output_type": "stream",
     "text": [
      "Too young to vote\n"
     ]
    }
   ],
   "source": [
    "#9.\tVoter Eligibility:\n",
    "age = int(input(\"Enter your age\"))\n",
    "if age < 18:\n",
    "    print(\"Too young to vote\")\n",
    "elif age >= 18:\n",
    "    country = input(\"Enter your country of residence\")\n",
    "    if country == \"USA\" or country == \"Canada\":\n",
    "        print(\"Eligible to vote in North America\")\n",
    "    else:\n",
    "        print(\"Eligible to vote but check local law\")\n",
    "        "
   ]
  },
  {
   "cell_type": "code",
   "execution_count": 30,
   "id": "d39cfbf1-f509-4f6d-b762-3db307399a87",
   "metadata": {},
   "outputs": [
    {
     "name": "stdout",
     "output_type": "stream",
     "text": [
      "tuple 1 is lexicographically smaller\n"
     ]
    }
   ],
   "source": [
    "#10. Tuple Comparison:\n",
    "t1 = (1,2,3)\n",
    "t2 = (1,2,4)\n",
    "\n",
    "if t1 == t2:\n",
    "    print(\"Tuples are identical\")\n",
    "elif t1 < t2:\n",
    "    print(\"tuple 1 is lexicographically smaller\")\n",
    "else:\n",
    "    print(\"uple 1 is lexicographically Greater\")"
   ]
  },
  {
   "cell_type": "markdown",
   "id": "4ff5fdb3-61ec-40d5-a136-6a017cda1e0d",
   "metadata": {},
   "source": [
    "# loop \n",
    "for loop"
   ]
  },
  {
   "cell_type": "code",
   "execution_count": 31,
   "id": "5794342a-4e75-4b70-aa9c-e6360aed09d7",
   "metadata": {},
   "outputs": [
    {
     "name": "stdout",
     "output_type": "stream",
     "text": [
      "red\n",
      "green\n",
      "blue\n",
      "yellow\n"
     ]
    }
   ],
   "source": [
    "#1.\n",
    "colors = [\"red\",\"green\",\"blue\",\"yellow\"]\n",
    "for i in colors:\n",
    "    print(i)"
   ]
  },
  {
   "cell_type": "code",
   "execution_count": 32,
   "id": "27de02fa-f9e4-4d3d-b487-4a8f696d9bb5",
   "metadata": {},
   "outputs": [
    {
     "name": "stdout",
     "output_type": "stream",
     "text": [
      "1 2 3 4 5 "
     ]
    }
   ],
   "source": [
    "for i in range(1,6):\n",
    "    print(i,end=\" \")"
   ]
  },
  {
   "cell_type": "code",
   "execution_count": 33,
   "id": "b14e8f7c-11f5-479a-983d-1d1ac5d30bf5",
   "metadata": {},
   "outputs": [
    {
     "name": "stdout",
     "output_type": "stream",
     "text": [
      "2 4 6 8 10 12 14 16 18 "
     ]
    }
   ],
   "source": [
    "for i in range(1,20):\n",
    "    if i % 2 == 0:\n",
    "        print(i,end=\" \")"
   ]
  },
  {
   "cell_type": "code",
   "execution_count": 35,
   "id": "99ed225f-f42e-4c72-b338-e193743e03c3",
   "metadata": {},
   "outputs": [
    {
     "name": "stdout",
     "output_type": "stream",
     "text": [
      "p\n",
      "r\n",
      "o\n",
      "g\n",
      "g is encountered\n"
     ]
    }
   ],
   "source": [
    "word = \"programming\"\n",
    "for i in word:\n",
    "    print(i)\n",
    "    if i == \"g\":\n",
    "        print(\"g is encountered\")\n",
    "        break"
   ]
  },
  {
   "cell_type": "code",
   "execution_count": 47,
   "id": "7c2e01e9-c0ec-44a6-87d0-6050d6cf8589",
   "metadata": {},
   "outputs": [
    {
     "name": "stdout",
     "output_type": "stream",
     "text": [
      "dict_items([('Alice', 90), ('Bob', 85), ('Charlie', 92)])\n",
      "\n",
      "Alice scored 90\n",
      "\n",
      "Bob scored 85\n",
      "\n",
      "Charlie scored 92\n",
      "\n"
     ]
    }
   ],
   "source": [
    "grades = {'Alice': 90, 'Bob': 85, 'Charlie': 92}\n",
    "\n",
    "print(grades.items())\n",
    "print()\n",
    "\n",
    "for i,j in grades.items():\n",
    "    print(f\"{i} scored {j}\")\n",
    "    print()\n"
   ]
  },
  {
   "cell_type": "code",
   "execution_count": 54,
   "id": "be38816a-944f-4740-af54-77c92a6f562b",
   "metadata": {},
   "outputs": [
    {
     "name": "stdout",
     "output_type": "stream",
     "text": [
      "Task 1 : buy bread\n",
      "Task 2 : clean car\n",
      "Task 3 : write report\n"
     ]
    }
   ],
   "source": [
    "tasks = [\"buy bread\", \"clean car\", \"write report\"]\n",
    "\n",
    "for i,j in enumerate(tasks,start=1):\n",
    "    print(f\"Task {i} : {j}\")"
   ]
  },
  {
   "cell_type": "code",
   "execution_count": 55,
   "id": "a0ec05da-2ec8-4438-86d6-31f96d173e42",
   "metadata": {},
   "outputs": [
    {
     "name": "stdout",
     "output_type": "stream",
     "text": [
      "100\n"
     ]
    }
   ],
   "source": [
    "data = [10, 20, 30, 40]\n",
    "total = 0\n",
    "for i in data:\n",
    "    total += i\n",
    "\n",
    "print(total)"
   ]
  },
  {
   "cell_type": "code",
   "execution_count": 57,
   "id": "b51af7e3-c8c6-41dd-a3f2-de8302151b9c",
   "metadata": {},
   "outputs": [
    {
     "name": "stdout",
     "output_type": "stream",
     "text": [
      "1\n",
      "8\n",
      "12\n"
     ]
    }
   ],
   "source": [
    "numbers = [1,5,8,12,15,20]\n",
    "\n",
    "for i in numbers:\n",
    "    if i % 5 == 0:\n",
    "        continue\n",
    "    else:\n",
    "        print(i)"
   ]
  },
  {
   "cell_type": "code",
   "execution_count": 60,
   "id": "7af4bdfa-33c2-4ce1-aac7-5e12635e7801",
   "metadata": {},
   "outputs": [
    {
     "name": "stdout",
     "output_type": "stream",
     "text": [
      "***\n",
      "***\n",
      "***\n"
     ]
    }
   ],
   "source": [
    "for i in range(0,3):\n",
    "    print(\"*\"*3)"
   ]
  },
  {
   "cell_type": "code",
   "execution_count": 61,
   "id": "9cf7a3d0-d107-44b8-9e59-46e0910e1e5d",
   "metadata": {},
   "outputs": [
    {
     "name": "stdout",
     "output_type": "stream",
     "text": [
      "has e\n",
      "has e\n",
      "has e\n",
      "has e\n"
     ]
    }
   ],
   "source": [
    "items = ('pen', 'pencil', 'eraser', 'sharpener')\n",
    "for i in items:\n",
    "    if \"e\" in i:\n",
    "        print(\"has e\")\n",
    "    else:\n",
    "        print(\"item alone\")"
   ]
  },
  {
   "cell_type": "markdown",
   "id": "957dfa18-39c4-4704-837f-a43d6465ee8b",
   "metadata": {},
   "source": [
    "While loop"
   ]
  },
  {
   "cell_type": "code",
   "execution_count": 63,
   "id": "d8605f3b-1cba-4de5-ad90-47102e9b719e",
   "metadata": {},
   "outputs": [
    {
     "name": "stdout",
     "output_type": "stream",
     "text": [
      "1 2 3 4 5 "
     ]
    }
   ],
   "source": [
    "i = 1\n",
    "while i <= 5:\n",
    "    print(i,end=\" \")\n",
    "    i+=1"
   ]
  },
  {
   "cell_type": "code",
   "execution_count": 65,
   "id": "77a1c87d-233c-4fe8-8a81-71cd89a47352",
   "metadata": {},
   "outputs": [
    {
     "name": "stdout",
     "output_type": "stream",
     "text": [
      "10\n",
      "9\n",
      "8\n",
      "7\n",
      "6\n",
      "5\n",
      "4\n",
      "3\n",
      "2\n",
      "1\n",
      "Liftoff\n"
     ]
    }
   ],
   "source": [
    "i = 10\n",
    "while i >= 1:\n",
    "    print(i)\n",
    "    if i == 1:\n",
    "        print(\"Liftoff\")\n",
    "    i-=1"
   ]
  },
  {
   "cell_type": "code",
   "execution_count": 68,
   "id": "237cda63-3c9b-446c-850f-89ab2964ba9d",
   "metadata": {},
   "outputs": [
    {
     "name": "stdin",
     "output_type": "stream",
     "text": [
      "Enter a number 12\n",
      "Enter a number 13\n",
      "Enter a number 14\n",
      "Enter a number 1\n",
      "Enter a number 0\n"
     ]
    },
    {
     "name": "stdout",
     "output_type": "stream",
     "text": [
      "40\n"
     ]
    }
   ],
   "source": [
    "user = int(input(\"Enter a number\"))\n",
    "\n",
    "total = 0\n",
    "while user != 0:\n",
    "    total += user\n",
    "    user = int(input(\"Enter a number\"))\n",
    "\n",
    "print(total)"
   ]
  },
  {
   "cell_type": "code",
   "execution_count": 69,
   "id": "72f99f58-ae9f-40a5-9830-3887532dc5c5",
   "metadata": {},
   "outputs": [
    {
     "name": "stdin",
     "output_type": "stream",
     "text": [
      "Enter a city name mumbai\n"
     ]
    },
    {
     "name": "stdout",
     "output_type": "stream",
     "text": [
      "hello user\n"
     ]
    },
    {
     "name": "stdin",
     "output_type": "stream",
     "text": [
      "Enter a city name delhi\n"
     ]
    },
    {
     "name": "stdout",
     "output_type": "stream",
     "text": [
      "hello user\n"
     ]
    },
    {
     "name": "stdin",
     "output_type": "stream",
     "text": [
      "Enter a city name quit\n"
     ]
    }
   ],
   "source": [
    "user = input(\"Enter a city name\")\n",
    "\n",
    "while user != \"quit\":\n",
    "    print(\"hello user\")\n",
    "    user = input(\"Enter a city name\")"
   ]
  },
  {
   "cell_type": "code",
   "execution_count": 7,
   "id": "615c4471-29db-41d3-a6f8-96bbb02da6b8",
   "metadata": {},
   "outputs": [
    {
     "name": "stdin",
     "output_type": "stream",
     "text": [
      "Guess the number 3\n"
     ]
    },
    {
     "name": "stdout",
     "output_type": "stream",
     "text": [
      "you lost 1 chnace. Try again\n"
     ]
    },
    {
     "name": "stdin",
     "output_type": "stream",
     "text": [
      "Guess the number 5\n"
     ]
    },
    {
     "name": "stdout",
     "output_type": "stream",
     "text": [
      "Congrats !! you guess the right number\n",
      "The answer is 5\n"
     ]
    }
   ],
   "source": [
    "#5.\tGuessing Game (Limited Tries):\n",
    "import random\n",
    "\n",
    "num = random.randint(1,10)\n",
    "attempt = 1\n",
    "while attempt < 4:\n",
    "    user_input = int(input(\"Guess the number\"))\n",
    "    if user_input == num:\n",
    "        print(\"Congrats !! you guess the right number\")\n",
    "        break\n",
    "    else:\n",
    "        print(f\"you lost {attempt} chnace. Try again\")\n",
    "    attempt += 1\n",
    "    if attempt == 4:\n",
    "        print(\"sorry you lost the game\")\n",
    "\n",
    "print(f\"The answer is {num}\")"
   ]
  },
  {
   "cell_type": "code",
   "execution_count": 8,
   "id": "073b9856-0c8b-4958-8b70-bb3d39938656",
   "metadata": {},
   "outputs": [
    {
     "name": "stdin",
     "output_type": "stream",
     "text": [
      "Enter a number 3\n"
     ]
    },
    {
     "name": "stdout",
     "output_type": "stream",
     "text": [
      "Guess the another number\n"
     ]
    },
    {
     "name": "stdin",
     "output_type": "stream",
     "text": [
      "Enter a number 1\n"
     ]
    },
    {
     "name": "stdout",
     "output_type": "stream",
     "text": [
      "Guess the another number\n"
     ]
    },
    {
     "name": "stdin",
     "output_type": "stream",
     "text": [
      "Enter a number 5\n"
     ]
    },
    {
     "name": "stdout",
     "output_type": "stream",
     "text": [
      "Guess the another number\n"
     ]
    },
    {
     "name": "stdin",
     "output_type": "stream",
     "text": [
      "Enter a number 8\n"
     ]
    }
   ],
   "source": [
    "user = int(input(\"Enter a number\"))\n",
    "\n",
    "while True:\n",
    "    if user % 2 == 0:\n",
    "        break\n",
    "    else:\n",
    "        print(\"Guess the another number\")\n",
    "        user = int(input(\"Enter a number\"))"
   ]
  },
  {
   "cell_type": "code",
   "execution_count": 11,
   "id": "c9d9b518-c21f-48dc-bebb-04805c922f17",
   "metadata": {},
   "outputs": [
    {
     "name": "stdout",
     "output_type": "stream",
     "text": [
      "1\n",
      "2\n",
      "3\n",
      "4\n",
      "6\n",
      "7\n",
      "8\n",
      "9\n",
      "10\n"
     ]
    }
   ],
   "source": [
    "i = 1\n",
    "while i <= 10:\n",
    "    if i == 5:\n",
    "        i+=1\n",
    "        continue\n",
    "    else:\n",
    "        print(i)\n",
    "        i += 1"
   ]
  },
  {
   "cell_type": "code",
   "execution_count": 14,
   "id": "9379be1a-fce3-4152-a43d-f42e1464e327",
   "metadata": {},
   "outputs": [
    {
     "name": "stdout",
     "output_type": "stream",
     "text": [
      "Alice\n",
      "[]\n"
     ]
    }
   ],
   "source": [
    "names = ['Alice', 'Bob', 'Charlie', 'David']\n",
    "a = names[0]\n",
    "\n",
    "while names:\n",
    "    b = names.pop()\n",
    "    if b == a:\n",
    "        print(b)\n",
    "\n",
    "print(names)"
   ]
  },
  {
   "cell_type": "code",
   "execution_count": 24,
   "id": "19fb04e1-a509-4a5f-94cd-7256b4aa7cfc",
   "metadata": {},
   "outputs": [
    {
     "name": "stdin",
     "output_type": "stream",
     "text": [
      "Enter a number : 0\n"
     ]
    },
    {
     "name": "stdout",
     "output_type": "stream",
     "text": [
      "1\n"
     ]
    }
   ],
   "source": [
    "#9.\tFactorial Calculation:\n",
    "num = int(input(\"Enter a number :\"))\n",
    "fact = 1\n",
    "i = 0\n",
    "while i < num:\n",
    "    fact = fact * (num - i)\n",
    "    i += 1\n",
    "\n",
    "print(fact)\n",
    "    "
   ]
  },
  {
   "cell_type": "code",
   "execution_count": 7,
   "id": "6ab7d22c-f5df-4214-9f50-d92d143a73b4",
   "metadata": {},
   "outputs": [
    {
     "name": "stdin",
     "output_type": "stream",
     "text": [
      "enter the power 10\n"
     ]
    },
    {
     "name": "stdout",
     "output_type": "stream",
     "text": [
      "2\n",
      "4\n",
      "8\n",
      "16\n",
      "32\n",
      "64\n",
      "128\n",
      "256\n",
      "512\n",
      "1024\n"
     ]
    }
   ],
   "source": [
    "n = int(input(\"enter the power\"))\n",
    "i = 0\n",
    "pow_of_2 = 1\n",
    "while i < n:\n",
    "    pow_of_2 = pow_of_2 * 2\n",
    "    print(pow_of_2)\n",
    "    i+=1\n",
    "\n",
    "#print(pow_of_2)"
   ]
  },
  {
   "cell_type": "markdown",
   "id": "65cd07f6-e459-42d2-9335-0f14025fe335",
   "metadata": {},
   "source": [
    "# Practice Questions: match/case Statement"
   ]
  },
  {
   "cell_type": "code",
   "execution_count": 11,
   "id": "5b970ca7-7bb7-4372-a92f-0428dc30f9f9",
   "metadata": {},
   "outputs": [
    {
     "name": "stdin",
     "output_type": "stream",
     "text": [
      "Enter a numner 7\n"
     ]
    },
    {
     "name": "stdout",
     "output_type": "stream",
     "text": [
      "Sunday\n"
     ]
    }
   ],
   "source": [
    "var = int(input(\"Enter a numner\"))\n",
    "\n",
    "match var:\n",
    "    case 1:\n",
    "        print(\"Monday\")\n",
    "    case 2:\n",
    "        print(\"Tesday\")\n",
    "    case 3:\n",
    "        print(\"Wednesday\")\n",
    "    case 4:\n",
    "        print(\"Thursday\")\n",
    "    case 5:\n",
    "        print(\"Friday\")\n",
    "    case 6:\n",
    "        print(\"Satrday\")\n",
    "    case 7:\n",
    "        print(\"Sunday\")\n",
    "    case _:\n",
    "        print(\"Invalid day number\")"
   ]
  },
  {
   "cell_type": "code",
   "execution_count": 13,
   "id": "3121fe12-dc62-4442-94fb-dccb7339d787",
   "metadata": {},
   "outputs": [
    {
     "name": "stdin",
     "output_type": "stream",
     "text": [
      "Enter a color yellow\n"
     ]
    },
    {
     "name": "stdout",
     "output_type": "stream",
     "text": [
      "Check light\n"
     ]
    }
   ],
   "source": [
    "color = input(\"Enter a color\")\n",
    "\n",
    "match color:\n",
    "    case \"red\":\n",
    "        print(\"Halt!\")\n",
    "    case \"green\":\n",
    "        print(\"Go\")\n",
    "    case _:\n",
    "        print(\"Check light\")"
   ]
  },
  {
   "cell_type": "code",
   "execution_count": 2,
   "id": "4ea290fc-ff4a-469e-9e4d-06a3681444cb",
   "metadata": {},
   "outputs": [
    {
     "name": "stdin",
     "output_type": "stream",
     "text": [
      "Enter co-ordinates 7\n",
      "Enter co-ordinates 9\n"
     ]
    },
    {
     "name": "stdout",
     "output_type": "stream",
     "text": [
      "In a quadrant\n"
     ]
    }
   ],
   "source": [
    "#3.\tPoint Coordinate Matching (Tuple Pattern):\n",
    "x = int(input(\"Enter co-ordinates\"))\n",
    "y = int(input(\"Enter co-ordinates\"))\n",
    "\n",
    "point_var = (x,y)\n",
    "\n",
    "match point_var:\n",
    "    case (0,0):\n",
    "        print(\"Origin\")\n",
    "    case (5,0):\n",
    "        print(\"X - axis\")\n",
    "    case (0,5):\n",
    "        print(\"Y -axis\")\n",
    "    case _:\n",
    "        print(\"In a quadrant\")"
   ]
  },
  {
   "cell_type": "code",
   "execution_count": 9,
   "id": "78142fb2-ab09-444b-b090-c8d20bcb336a",
   "metadata": {},
   "outputs": [
    {
     "name": "stdin",
     "output_type": "stream",
     "text": [
      "Enter a commmand move south\n"
     ]
    },
    {
     "name": "stdout",
     "output_type": "stream",
     "text": [
      "Unknown command\n"
     ]
    }
   ],
   "source": [
    "command = input(\"Enter a commmand\")\n",
    "command_list = [x for x in command.split()]\n",
    "\n",
    "match command_list:\n",
    "    case [\"move\",\"north\"]:\n",
    "        print(\"Moving north\")\n",
    "    case [\"open\",\"door\"]:\n",
    "        print(\"Opening door\")\n",
    "    case _:\n",
    "        print(\"Unknown command\")"
   ]
  },
  {
   "cell_type": "code",
   "execution_count": 2,
   "id": "6794ca7d-83e1-4f8e-82c9-faf21d11358c",
   "metadata": {},
   "outputs": [
    {
     "name": "stdin",
     "output_type": "stream",
     "text": [
      "Enter a data [1.2]\n"
     ]
    },
    {
     "name": "stdout",
     "output_type": "stream",
     "text": [
      "List Structure\n"
     ]
    }
   ],
   "source": [
    "import ast\n",
    "data = ast.literal_eval(input(\"Enter a data\"))\n",
    "\n",
    "match data:\n",
    "    case int():\n",
    "        print(\"Integer Value\")\n",
    "    case list():\n",
    "        print(\"List Structure\")\n",
    "    case str():\n",
    "        print(\"String Sequence\")\n",
    "    case _:\n",
    "        print(\"Other data type\")"
   ]
  },
  {
   "cell_type": "code",
   "execution_count": 13,
   "id": "3466a77b-c348-49da-afc4-79520756980e",
   "metadata": {},
   "outputs": [
    {
     "name": "stdin",
     "output_type": "stream",
     "text": [
      "Enter a code 450\n"
     ]
    },
    {
     "name": "stdout",
     "output_type": "stream",
     "text": [
      "Client Error\n"
     ]
    }
   ],
   "source": [
    "#6.\tHTTP Status Check (Guard Clause if):\n",
    "code = int(input(\"Enter a code\"))\n",
    "\n",
    "match code:\n",
    "    case code:\n",
    "        if code >= 200 and code < 300:\n",
    "            print(\"Success\")\n",
    "        elif code >= 400 and code < 500:\n",
    "            print(\"Client Error\")\n",
    "        else:\n",
    "            print(\"Informational or server Error\")\n",
    "    \n",
    "    "
   ]
  },
  {
   "cell_type": "code",
   "execution_count": 18,
   "id": "13f3fea9-35bf-489c-a291-ae59ba663318",
   "metadata": {},
   "outputs": [
    {
     "name": "stdin",
     "output_type": "stream",
     "text": [
      "Enter a list [\"sanket\"]\n"
     ]
    },
    {
     "name": "stdout",
     "output_type": "stream",
     "text": [
      "One Item\n"
     ]
    }
   ],
   "source": [
    "list1 = ast.literal_eval(input(\"Enter a list\"))\n",
    "\n",
    "match len(list1):\n",
    "    case 0:\n",
    "        print(\"No Items\")\n",
    "    case 1:\n",
    "        print(\"One Item\")\n",
    "    case _:\n",
    "        print(\"Multiple Items\")"
   ]
  },
  {
   "cell_type": "code",
   "execution_count": 17,
   "id": "37af47a5-359e-40fb-8161-8abff17c7d0b",
   "metadata": {},
   "outputs": [
    {
     "name": "stdin",
     "output_type": "stream",
     "text": [
      "Enter a dictonary {\"role\":\"admin\"}\n"
     ]
    },
    {
     "name": "stdout",
     "output_type": "stream",
     "text": [
      "admin\n",
      "access Granted\n"
     ]
    }
   ],
   "source": [
    "#8.\tDictionary Matching (Key Existence): # dought\n",
    "usr_dict = ast.literal_eval(input(\"Enter a dictonary\"))\n",
    "print(usr_dict.get(\"role\"))\n",
    "\n",
    "match usr_dict:\n",
    "    case {\"role\":\"admin\"}:\n",
    "        print(\"access Granted\")\n",
    "    case \"role\":\n",
    "        print(\"Access denied\")\n",
    "    case _:\n",
    "        print(\"No role key\")                "
   ]
  },
  {
   "cell_type": "code",
   "execution_count": 20,
   "id": "a862c02c-7bc6-46dd-8272-8600bbc51e87",
   "metadata": {},
   "outputs": [
    {
     "name": "stdin",
     "output_type": "stream",
     "text": [
      "enter a operation (\"substract\",10,9)\n"
     ]
    },
    {
     "name": "stdout",
     "output_type": "stream",
     "text": [
      "10 - 9\n"
     ]
    }
   ],
   "source": [
    "operation = ast.literal_eval(input(\"enter a operation\"))\n",
    "\n",
    "match operation[0]:\n",
    "    case \"add\":\n",
    "        print(f\"{operation[1]} + {operation[2]}\")\n",
    "    case \"substract\":\n",
    "        print(f\"{operation[1]} - {operation[2]}\")\n",
    "    case _:\n",
    "        print(\"Unsupported Operation\")"
   ]
  },
  {
   "cell_type": "code",
   "execution_count": null,
   "id": "04e32d1c-fd0e-4c5f-a6d2-0e3ec159dbf5",
   "metadata": {},
   "outputs": [],
   "source": [
    "#what is guard clause?"
   ]
  }
 ],
 "metadata": {
  "kernelspec": {
   "display_name": "Python 3 (ipykernel)",
   "language": "python",
   "name": "python3"
  },
  "language_info": {
   "codemirror_mode": {
    "name": "ipython",
    "version": 3
   },
   "file_extension": ".py",
   "mimetype": "text/x-python",
   "name": "python",
   "nbconvert_exporter": "python",
   "pygments_lexer": "ipython3",
   "version": "3.13.7"
  }
 },
 "nbformat": 4,
 "nbformat_minor": 5
}
