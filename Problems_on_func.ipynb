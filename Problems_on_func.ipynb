{
 "cells": [
  {
   "cell_type": "markdown",
   "id": "9184f045-3d56-4744-a490-d2a9a92a54a2",
   "metadata": {},
   "source": [
    "# Problems on function\n",
    "# level 1\n",
    "Sum of Two Numbers\n",
    "👉 Write a function add(a, b) that returns the sum of two numbers.\n",
    "\n",
    "Even or Odd\n",
    "👉 Write a function check_even(num) that prints whether the number is even or odd.\n",
    "\n",
    "Square of a Number\n",
    "👉 Write a function square(x) that returns the square of a number.\n",
    "\n",
    "Greet User\n",
    "👉 Write a function greet(name) that prints \"Hello <name>\".\n",
    "\n",
    "Find Maximum\n",
    "👉 Write a function find_max(a, b, c) that returns the largest of three numbers."
   ]
  },
  {
   "cell_type": "code",
   "execution_count": 1,
   "id": "a9cf8ac1-ed48-462d-810b-078b9c0fe831",
   "metadata": {},
   "outputs": [],
   "source": [
    "#Write a function add(a, b) that returns the sum of two numbers.\n",
    "def add(a,b):\n",
    "    return a+b"
   ]
  },
  {
   "cell_type": "code",
   "execution_count": 2,
   "id": "10d445f5-f443-4a1e-9bdd-f627466b4756",
   "metadata": {},
   "outputs": [
    {
     "data": {
      "text/plain": [
       "46"
      ]
     },
     "execution_count": 2,
     "metadata": {},
     "output_type": "execute_result"
    }
   ],
   "source": [
    "add(12,34)"
   ]
  },
  {
   "cell_type": "code",
   "execution_count": 3,
   "id": "6689473d-10a7-4453-946e-9b778f0e8da9",
   "metadata": {},
   "outputs": [],
   "source": [
    "#Write a function check_even(num) that prints whether the number is even or odd.\n",
    "def check_even(num):\n",
    "    if num%2 == 0:\n",
    "        print(f\"{num} is even\")\n",
    "    else:\n",
    "        print(f\"{num} is odd\")"
   ]
  },
  {
   "cell_type": "code",
   "execution_count": 4,
   "id": "c89a2500-ed93-4c80-869c-e292084d4bfe",
   "metadata": {},
   "outputs": [
    {
     "name": "stdout",
     "output_type": "stream",
     "text": [
      "12 is even\n"
     ]
    }
   ],
   "source": [
    "check_even(12)"
   ]
  },
  {
   "cell_type": "code",
   "execution_count": 5,
   "id": "01ba9ede-5b06-46c2-99ef-52b3d98b4b3b",
   "metadata": {},
   "outputs": [
    {
     "name": "stdout",
     "output_type": "stream",
     "text": [
      "1209 is odd\n"
     ]
    }
   ],
   "source": [
    "check_even(1209)"
   ]
  },
  {
   "cell_type": "code",
   "execution_count": 6,
   "id": "a00d1672-233b-4546-b2a3-9be83368bd62",
   "metadata": {},
   "outputs": [
    {
     "data": {
      "text/plain": [
       "144"
      ]
     },
     "execution_count": 6,
     "metadata": {},
     "output_type": "execute_result"
    }
   ],
   "source": [
    "#Write a function square(x) that returns the square of a number.\n",
    "def squ(x):\n",
    "    return x**2\n",
    "\n",
    "squ(12)"
   ]
  },
  {
   "cell_type": "code",
   "execution_count": 7,
   "id": "74eddd92-e5b2-4bb0-b5b1-b018ea70e4ff",
   "metadata": {},
   "outputs": [],
   "source": [
    "#Write a function greet(name) that prints \"Hello \".\n",
    "def greet(name):\n",
    "    print(f\"Hellow {name}\")"
   ]
  },
  {
   "cell_type": "code",
   "execution_count": 8,
   "id": "6e009390-0190-4471-ae7e-77cb0b8c1e81",
   "metadata": {},
   "outputs": [
    {
     "name": "stdout",
     "output_type": "stream",
     "text": [
      "Hellow Akhil\n"
     ]
    }
   ],
   "source": [
    "greet(\"Akhil\")"
   ]
  },
  {
   "cell_type": "code",
   "execution_count": 9,
   "id": "dfa2d853-e0a0-4d45-8c18-1984a4b2d85e",
   "metadata": {},
   "outputs": [],
   "source": [
    "# Write a function find_max(a, b, c) that returns the largest of three numbers.\n",
    "def find_max(a,b,c):\n",
    "    if a > b and a > c:\n",
    "        print(f\"{a} is largest number\")\n",
    "    elif b > a and b > c:\n",
    "        print(f\"{b} is largest number\")\n",
    "    else:\n",
    "        print(f\"{c} is largest number\")"
   ]
  },
  {
   "cell_type": "code",
   "execution_count": 10,
   "id": "2e733c57-4087-4118-a3e7-5cc14e3ec8b4",
   "metadata": {},
   "outputs": [
    {
     "name": "stdout",
     "output_type": "stream",
     "text": [
      "34 is largest number\n"
     ]
    }
   ],
   "source": [
    "find_max(12,34,10)"
   ]
  },
  {
   "cell_type": "markdown",
   "id": "5f9073d0-13d3-4c14-8c8b-cba07e92899f",
   "metadata": {},
   "source": [
    "# Level 2\n",
    "factorial Function\n",
    "👉 Write a function factorial(n) that returns the factorial of a number.\n",
    "\n",
    "Prime Number Check\n",
    "👉 Write a function is_prime(num) that returns True if the number is prime, else False.\n",
    "\n",
    "Reverse a String\n",
    "👉 Write a function reverse_string(s) that returns the reversed string.\n",
    "\n",
    "Count Vowels\n",
    "👉 Write a function count_vowels(s) that returns how many vowels are in a given string.\n",
    "\n",
    "Sum of Digits\n",
    "👉 Write a function sum_digits(n) that returns the sum of all digits in a number."
   ]
  },
  {
   "cell_type": "code",
   "execution_count": 33,
   "id": "4f8e470d-fdaa-45bf-9a72-0ec856619c68",
   "metadata": {},
   "outputs": [],
   "source": [
    "#Write a function factorial(n) that returns the factorial of a number.\n",
    "def fact(num):\n",
    "    f = 1\n",
    "    if num == 0:\n",
    "        return f\n",
    "    else:\n",
    "        for i in range(0,num):\n",
    "            f = f * (num-i)\n",
    "    return f"
   ]
  },
  {
   "cell_type": "code",
   "execution_count": 36,
   "id": "cab4a614-67e8-422e-b4c0-c4942938fa1e",
   "metadata": {},
   "outputs": [
    {
     "data": {
      "text/plain": [
       "720"
      ]
     },
     "execution_count": 36,
     "metadata": {},
     "output_type": "execute_result"
    }
   ],
   "source": [
    "fact(6)"
   ]
  },
  {
   "cell_type": "code",
   "execution_count": 38,
   "id": "74495feb-4cc0-4940-b9f8-e938a095ccff",
   "metadata": {},
   "outputs": [],
   "source": [
    "#Write a function is_prime(num) that returns True if the number is prime, else False.\n",
    "def is_prime(num):\n",
    "    prime = True\n",
    "    if num == 1:\n",
    "        prime = False\n",
    "    else:\n",
    "        for i in range(2,num):\n",
    "            if num % i == 0:\n",
    "                prime = False\n",
    "    return prime"
   ]
  },
  {
   "cell_type": "code",
   "execution_count": 39,
   "id": "58228426-8621-4923-bac6-031b7a426d2c",
   "metadata": {},
   "outputs": [
    {
     "data": {
      "text/plain": [
       "True"
      ]
     },
     "execution_count": 39,
     "metadata": {},
     "output_type": "execute_result"
    }
   ],
   "source": [
    "is_prime(7)"
   ]
  },
  {
   "cell_type": "code",
   "execution_count": 40,
   "id": "df1728eb-656e-46ce-b460-545c0de2117c",
   "metadata": {},
   "outputs": [
    {
     "data": {
      "text/plain": [
       "False"
      ]
     },
     "execution_count": 40,
     "metadata": {},
     "output_type": "execute_result"
    }
   ],
   "source": [
    "is_prime(12)"
   ]
  },
  {
   "cell_type": "code",
   "execution_count": 41,
   "id": "9dae4f4d-d5fa-46a1-af85-25a1349907db",
   "metadata": {},
   "outputs": [
    {
     "data": {
      "text/plain": [
       "True"
      ]
     },
     "execution_count": 41,
     "metadata": {},
     "output_type": "execute_result"
    }
   ],
   "source": [
    "is_prime(11)"
   ]
  },
  {
   "cell_type": "code",
   "execution_count": 42,
   "id": "452d5dec-73f0-4603-98c3-181b3889a77a",
   "metadata": {},
   "outputs": [
    {
     "data": {
      "text/plain": [
       "True"
      ]
     },
     "execution_count": 42,
     "metadata": {},
     "output_type": "execute_result"
    }
   ],
   "source": [
    "is_prime(2)"
   ]
  },
  {
   "cell_type": "code",
   "execution_count": 43,
   "id": "38fdbe15-cb34-4064-9d9c-02e20f13f404",
   "metadata": {},
   "outputs": [
    {
     "data": {
      "text/plain": [
       "True"
      ]
     },
     "execution_count": 43,
     "metadata": {},
     "output_type": "execute_result"
    }
   ],
   "source": [
    "is_prime(31)"
   ]
  },
  {
   "cell_type": "code",
   "execution_count": 57,
   "id": "a096862c-36d9-4c75-b016-1985d9e13a56",
   "metadata": {},
   "outputs": [],
   "source": [
    "#Write a function reverse_string(s) that returns the reversed string.\n",
    "def reverse_string(s):\n",
    "    #return s[::-1]\n",
    "    rev_str = []\n",
    "    s_lst = list(s)\n",
    "\n",
    "    #print(s_lst)\n",
    "    for i in range(0,len(s)):\n",
    "        rev_str.append(s_lst.pop())\n",
    "\n",
    "    return \"\".join(rev_str)"
   ]
  },
  {
   "cell_type": "code",
   "execution_count": 58,
   "id": "f3c3ea99-2bb8-4d85-9938-03564eaf5220",
   "metadata": {},
   "outputs": [
    {
     "name": "stdout",
     "output_type": "stream",
     "text": [
      "['p', 'y', 't', 'h', 'o', 'n']\n"
     ]
    },
    {
     "data": {
      "text/plain": [
       "'nohtyp'"
      ]
     },
     "execution_count": 58,
     "metadata": {},
     "output_type": "execute_result"
    }
   ],
   "source": [
    "reverse_string(\"python\")"
   ]
  },
  {
   "cell_type": "code",
   "execution_count": 62,
   "id": "79bd5a85-d4fe-4636-a075-542e905a2588",
   "metadata": {},
   "outputs": [],
   "source": [
    "#Write a function count_vowels(s) that returns how many vowels are in a given string.\n",
    "def count_vowel(s):\n",
    "    count = 0\n",
    "    \n",
    "    for ch in s:\n",
    "        if ch.lower() in [\"a\",\"e\",\"i\",\"o\",\"u\"]:\n",
    "            count+=1\n",
    "            \n",
    "    return count"
   ]
  },
  {
   "cell_type": "code",
   "execution_count": 65,
   "id": "cc51b747-08c7-49ab-8173-70e83c1cd6da",
   "metadata": {},
   "outputs": [
    {
     "data": {
      "text/plain": [
       "2"
      ]
     },
     "execution_count": 65,
     "metadata": {},
     "output_type": "execute_result"
    }
   ],
   "source": [
    "count_vowel(\"Apple\")"
   ]
  },
  {
   "cell_type": "code",
   "execution_count": 68,
   "id": "99990288-94d7-4dbf-8a55-7aa761467336",
   "metadata": {},
   "outputs": [],
   "source": [
    "#Write a function sum_digits(n) that returns the sum of all digits in a number.\n",
    "def sum_digit(n):\n",
    "    s = 0\n",
    "    \n",
    "    num = str(n)\n",
    "    for i in num:\n",
    "        s = s + int(i)\n",
    "\n",
    "    return s\n",
    "    "
   ]
  },
  {
   "cell_type": "code",
   "execution_count": 73,
   "id": "e5e61912-6b55-45f8-b52c-e9880efc3016",
   "metadata": {},
   "outputs": [
    {
     "data": {
      "text/plain": [
       "21"
      ]
     },
     "execution_count": 73,
     "metadata": {},
     "output_type": "execute_result"
    }
   ],
   "source": [
    "sum_digit(876)"
   ]
  },
  {
   "cell_type": "markdown",
   "id": "5c0d41a8-489a-4fe8-b88d-3e03cfcd8fd5",
   "metadata": {},
   "source": [
    "# Level 3:\n",
    "Greeting with Default Name\n",
    "👉 Write a function welcome(name=\"Guest\") that prints \"Welcome, <name>\".\n",
    "\n",
    "Add Any Number of Numbers\n",
    "👉 Write a function add_all(*args) that returns the sum of all numbers passed to it.\n",
    "\n",
    "Display Student Info\n",
    "👉 Write a function student_info(**kwargs) that accepts name, age, and course and prints them nicely.\n",
    "\n",
    "Mix of Arguments\n",
    "👉 Write a function intro(name, age=18, *hobbies, **details) that prints:\n",
    "\n",
    "name and age\n",
    "\n",
    "all hobbies\n",
    "\n",
    "and other details (like city, college, etc.)\n",
    "\n",
    "Calculate Average Marks\n",
    "👉 Write a function average_marks(*marks) that returns the average of all marks passed."
   ]
  },
  {
   "cell_type": "code",
   "execution_count": 74,
   "id": "ee8ade71-e088-4bf2-a0fc-a00d1146f780",
   "metadata": {},
   "outputs": [],
   "source": [
    "#Greeting with Default Name -Write a function welcome(name=\"Guest\") that prints \"Welcome, \".\n",
    "def welcome(name=\"Guest\"):\n",
    "    print(f\"Welcome {name}\")"
   ]
  },
  {
   "cell_type": "code",
   "execution_count": 75,
   "id": "5508df8b-2e3c-4512-a46c-e33efd1d9401",
   "metadata": {},
   "outputs": [
    {
     "name": "stdout",
     "output_type": "stream",
     "text": [
      "Welcome Guest\n"
     ]
    }
   ],
   "source": [
    "welcome()"
   ]
  },
  {
   "cell_type": "code",
   "execution_count": 76,
   "id": "40f10bb7-6282-43b0-a916-f84970c4dc82",
   "metadata": {},
   "outputs": [
    {
     "name": "stdout",
     "output_type": "stream",
     "text": [
      "Welcome Sanket\n"
     ]
    }
   ],
   "source": [
    "welcome(\"Sanket\")"
   ]
  },
  {
   "cell_type": "code",
   "execution_count": 79,
   "id": "13942e3e-8248-4e03-ac20-c2f355d489fe",
   "metadata": {},
   "outputs": [],
   "source": [
    "#Write a function add_all(*args) that returns the sum of all numbers passed to it.\n",
    "def add_all(*a):\n",
    "    print(a)\n",
    "    return sum(a)"
   ]
  },
  {
   "cell_type": "code",
   "execution_count": 80,
   "id": "ec000bb1-cbd4-466f-8be9-c8133cfa77dc",
   "metadata": {},
   "outputs": [
    {
     "name": "stdout",
     "output_type": "stream",
     "text": [
      "(1, 2, 3, 44, 5)\n"
     ]
    },
    {
     "data": {
      "text/plain": [
       "55"
      ]
     },
     "execution_count": 80,
     "metadata": {},
     "output_type": "execute_result"
    }
   ],
   "source": [
    "add_all(1,2,3,44,5)"
   ]
  },
  {
   "cell_type": "code",
   "execution_count": 86,
   "id": "53833283-ae2e-492b-8df3-9795e9036181",
   "metadata": {},
   "outputs": [],
   "source": [
    "#Write a function student_info(**kwargs) that accepts name, age, and course and prints them nicely.\n",
    "def stu_info(**a):\n",
    "    return a"
   ]
  },
  {
   "cell_type": "code",
   "execution_count": 87,
   "id": "6ff3420c-c4ad-4e74-8070-b6e88cee1844",
   "metadata": {},
   "outputs": [
    {
     "data": {
      "text/plain": [
       "{'name': 'Achal', 'age': 23, 'cource': 'Btech'}"
      ]
     },
     "execution_count": 87,
     "metadata": {},
     "output_type": "execute_result"
    }
   ],
   "source": [
    "stu_info(name=\"Achal\",age=23,cource=\"Btech\")"
   ]
  },
  {
   "cell_type": "code",
   "execution_count": 3,
   "id": "c560b3d8-f224-46f7-983a-073d08aaaf3e",
   "metadata": {},
   "outputs": [
    {
     "name": "stdout",
     "output_type": "stream",
     "text": [
      "Name : Rahul Shastri\n",
      "Age : 23\n",
      "Hobies : ('gaming', 'Singing', 'Swmming')\n",
      "Details : {'address': 'Nagpur', 'education': 'BTech in Mechanical', 'college': 'NITK'}\n"
     ]
    }
   ],
   "source": [
    "#Write a function intro(name, age=18, *hobbies, **details) that prints:\n",
    "def intro(name,age=18,*hobbies,**details):\n",
    "    \n",
    "    print(\"Name :\",name)\n",
    "    print(\"Age :\",age)\n",
    "    print(\"Hobies :\",hobbies)\n",
    "    print(\"Details :\",details)\n",
    "\n",
    "intro(\"Rahul Shastri\",23,\"gaming\",\"Singing\",\"Swmming\",address=\"Nagpur\",education=\"BTech in Mechanical\",college=\"NITK\")"
   ]
  },
  {
   "cell_type": "code",
   "execution_count": 11,
   "id": "831c0fe5-dea6-436a-8865-f3188b7af666",
   "metadata": {},
   "outputs": [],
   "source": [
    "#Write a function average_marks(*marks) that returns the average of all marks passed.\n",
    "def get_avg(*marks):\n",
    "    print(\"Total marks :\",sum(marks))\n",
    "    print(len(marks))\n",
    "    return sum(marks)/len(marks)"
   ]
  },
  {
   "cell_type": "code",
   "execution_count": 12,
   "id": "bc9120d5-2535-4e01-846d-5325e6d26db3",
   "metadata": {},
   "outputs": [
    {
     "name": "stdout",
     "output_type": "stream",
     "text": [
      "Total marks : 418\n",
      "5\n",
      "Average of marks is 83.6\n"
     ]
    }
   ],
   "source": [
    "print(\"Average of marks is\",get_avg(78,98,76,66,100))"
   ]
  },
  {
   "cell_type": "markdown",
   "id": "963ae930-af83-4f52-8f93-25f9212cf9f6",
   "metadata": {},
   "source": [
    "# Level 4:\n",
    "\n",
    "Temperature Converter\n",
    "👉 Write a function convert_temp(temp, scale) that converts temperature between Celsius and Fahrenheit.\n",
    "\n",
    "Palindrome Checker\n",
    "👉 Write a function is_palindrome(word) that checks if a string reads the same backward.\n",
    "\n",
    "Simple Calculator\n",
    "👉 Write a function calculator(a, b, operation) that performs addition, subtraction, multiplication, or division based on user input.\n",
    "\n",
    "Count Words in a Sentence\n",
    "👉 Write a function count_words(sentence) that counts and returns the number of words.\n",
    "\n",
    "Find Minimum & Maximum in a List\n",
    "👉 Write a function find_min_max(lst) that returns both the smallest and largest elements in a list."
   ]
  },
  {
   "cell_type": "code",
   "execution_count": 31,
   "id": "8f099285-b889-43f9-abe5-bf864158b223",
   "metadata": {},
   "outputs": [],
   "source": [
    "#Write a function convert_temp(temp, scale) that converts temperature between Celsius and Fahrenheit.\n",
    "def convert_temp(temp,scale):\n",
    "    S_temp = 32\n",
    "    if scale == \"Fahrenheit\":\n",
    "        S_temp = ((9/5)*temp) + 32   \n",
    "    elif scale == \"Kelvin\":\n",
    "        S_temp = temp + 273.15\n",
    "        \n",
    "    return S_temp"
   ]
  },
  {
   "cell_type": "code",
   "execution_count": 32,
   "id": "69af5a51-4889-4b8c-a32f-a2226df8913e",
   "metadata": {},
   "outputs": [
    {
     "data": {
      "text/plain": [
       "323.15"
      ]
     },
     "execution_count": 32,
     "metadata": {},
     "output_type": "execute_result"
    }
   ],
   "source": [
    "convert_temp(50,\"Kelvin\")"
   ]
  },
  {
   "cell_type": "code",
   "execution_count": 33,
   "id": "e8c918de-b0cc-4695-8de2-73b6adedf4a6",
   "metadata": {},
   "outputs": [],
   "source": [
    "#Write a function is_palindrome(word) that checks if a string reads the same backward.\n",
    "def is_palindrome(word):\n",
    "    flag = False\n",
    "    if word == word[::-1]:\n",
    "        flag = True\n",
    "\n",
    "    return flag"
   ]
  },
  {
   "cell_type": "code",
   "execution_count": 34,
   "id": "d7f43cde-b3f8-4688-a010-3433c8c84e34",
   "metadata": {},
   "outputs": [
    {
     "data": {
      "text/plain": [
       "True"
      ]
     },
     "execution_count": 34,
     "metadata": {},
     "output_type": "execute_result"
    }
   ],
   "source": [
    "is_palindrome(\"121\")"
   ]
  },
  {
   "cell_type": "code",
   "execution_count": 35,
   "id": "bf3d05a8-355d-4f17-a983-0cfcbcdce732",
   "metadata": {},
   "outputs": [
    {
     "data": {
      "text/plain": [
       "False"
      ]
     },
     "execution_count": 35,
     "metadata": {},
     "output_type": "execute_result"
    }
   ],
   "source": [
    "is_palindrome(\"Aman\")"
   ]
  },
  {
   "cell_type": "code",
   "execution_count": 36,
   "id": "352a01ad-2a2d-4850-9d5f-2da9360a088e",
   "metadata": {},
   "outputs": [
    {
     "name": "stdin",
     "output_type": "stream",
     "text": [
      " 12\n",
      " 23\n",
      " +\n"
     ]
    },
    {
     "data": {
      "text/plain": [
       "35"
      ]
     },
     "execution_count": 36,
     "metadata": {},
     "output_type": "execute_result"
    }
   ],
   "source": [
    "#Write a function calculator(a, b, operation) that performs addition, subtraction, multiplication, or division based on user input.\n",
    "\n",
    "def calculator(a,b,operation):\n",
    "    if operation == \"+\":\n",
    "        return a+b\n",
    "    elif operation == \"-\":\n",
    "        return a-b\n",
    "    elif operation == \"*\":\n",
    "        return a*b\n",
    "    elif operation == \"-\":\n",
    "        return a - b\n",
    "\n",
    "a = int(input())\n",
    "b = int(input())\n",
    "opr = input()\n",
    "calculator(a,b,opr)"
   ]
  },
  {
   "cell_type": "code",
   "execution_count": 14,
   "id": "05b60181-b728-40a0-a6fb-9d1965d0ced6",
   "metadata": {},
   "outputs": [],
   "source": [
    "#Write a function count_words(sentence) that counts and returns the number of words.\n",
    "def count_words(sentence):\n",
    "    count = 0\n",
    "    ls = list(sentence)\n",
    "    print(ls)\n",
    "\n",
    "    for ch in ls:\n",
    "        if ch == \" \":\n",
    "            continue\n",
    "        else:\n",
    "            count+=1\n",
    "    return count"
   ]
  },
  {
   "cell_type": "code",
   "execution_count": 16,
   "id": "57bdeec1-41c4-4708-9ccc-9300a5de79b7",
   "metadata": {},
   "outputs": [
    {
     "name": "stdout",
     "output_type": "stream",
     "text": [
      "['S', 'a', 'n', 'k', 'e', 't', ' ', 'M', 'a', 'r', 'a', 's', 'k', 'o', 'l', 'h', 'e']\n"
     ]
    },
    {
     "data": {
      "text/plain": [
       "16"
      ]
     },
     "execution_count": 16,
     "metadata": {},
     "output_type": "execute_result"
    }
   ],
   "source": [
    "count_words(\"Sanket Maraskolhe\")"
   ]
  },
  {
   "cell_type": "code",
   "execution_count": 17,
   "id": "eac3d452-6713-4adb-bf5e-150f8a1cc241",
   "metadata": {},
   "outputs": [],
   "source": [
    "#Write a function find_min_max(lst) that returns both the smallest and largest elements in a list.\n",
    "def find_min_max(num_ls):\n",
    "    new_ls = []\n",
    "    new_ls.append(min(num_ls))\n",
    "    new_ls.append(max(num_ls))\n",
    "\n",
    "    return new_ls"
   ]
  },
  {
   "cell_type": "code",
   "execution_count": 18,
   "id": "f3eb0de8-4965-482c-b2f5-715d21858d71",
   "metadata": {},
   "outputs": [
    {
     "data": {
      "text/plain": [
       "[10, 77]"
      ]
     },
     "execution_count": 18,
     "metadata": {},
     "output_type": "execute_result"
    }
   ],
   "source": [
    "find_min_max([12,33,22,10,77])"
   ]
  },
  {
   "cell_type": "code",
   "execution_count": null,
   "id": "afe7eed9-aad8-4238-ba47-43f239288db5",
   "metadata": {},
   "outputs": [],
   "source": []
  }
 ],
 "metadata": {
  "kernelspec": {
   "display_name": "Python 3 (ipykernel)",
   "language": "python",
   "name": "python3"
  },
  "language_info": {
   "codemirror_mode": {
    "name": "ipython",
    "version": 3
   },
   "file_extension": ".py",
   "mimetype": "text/x-python",
   "name": "python",
   "nbconvert_exporter": "python",
   "pygments_lexer": "ipython3",
   "version": "3.13.7"
  }
 },
 "nbformat": 4,
 "nbformat_minor": 5
}
