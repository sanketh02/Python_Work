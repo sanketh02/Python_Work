{
 "cells": [
  {
   "cell_type": "markdown",
   "id": "98e1f15f-81f4-48ec-a42e-c26a8b3af00b",
   "metadata": {},
   "source": [
    "# Problem on string\n",
    "\n",
    "1.\tSlicing - Basic: Given the string text = \"Programming\", write the code to extract and print the substring \"gram\".\n",
    "  \n",
    "3.\tSlicing - Negative Indexing: Given the string data = \"Python_Expert\", write the code to extract and print the substring \"Expert\" using only negative indices.\n",
    "\n",
    "\n",
    "5.\tLength and Access: Store your full name in a variable full_name. Print both the total length of the string and the character at the very first index.\n",
    "\n",
    "\n",
    "7.\tCase Conversion: Write a program that asks the user for a word and then prints that word three times: once in all uppercase, once in all lowercase, and once with only the first letter capitalized.\n",
    "\n",
    "\n",
    "9.\tSplitting and Joining: Given the string sentence = \"Python is powerful\", first split the string into a list of words. Then, join the words back into a single string using a hyphen (-) as the separator.\n",
    "\n",
    "\n",
    "11.\tFinding and Indexing: Given haystack = \"banana, apple, orange\", find the starting index of the word \"apple\" within the string. Then, use the .replace() method to change \"apple\" to \"kiwi\" and print the result.\n",
    "\n",
    "\n",
    "13.\tStripping Characters: Given the string messy = \" ***Hello World*** \\n\", use a single operation to remove both the leading/trailing whitespace and the asterisk characters (*).\n",
    "\n",
    "\n",
    "15.\tChecking Prefix/Suffix: Write a conditional statement that checks if the string filename = \"report.pdf\" ends with .pdf AND if it starts with report. Print \"File is valid\" if both conditions are true.\n",
    "\n",
    "\n",
    "17.\tString Multiplication: Use string multiplication to create and print a string consisting of ten dollar signs ($).\n",
    "\n",
    "\n",
    "19.\tString Formatting (f-string and alignment): Given item = \"Laptop\" and price = 999.99, use a single f-string to print the output as:\n",
    "Item: Laptop | Price: $999.99\n"
   ]
  },
  {
   "cell_type": "code",
   "execution_count": 1,
   "id": "37bd5286-6314-49ca-8a10-6153aac8ed65",
   "metadata": {},
   "outputs": [],
   "source": [
    "text = \"Programming\""
   ]
  },
  {
   "cell_type": "code",
   "execution_count": 3,
   "id": "1aff1be4-69f6-4b1e-9d7d-590d45a66292",
   "metadata": {},
   "outputs": [
    {
     "data": {
      "text/plain": [
       "'gram'"
      ]
     },
     "execution_count": 3,
     "metadata": {},
     "output_type": "execute_result"
    }
   ],
   "source": [
    "text[3:7]"
   ]
  },
  {
   "cell_type": "code",
   "execution_count": 5,
   "id": "c1465aec-9ef4-44fd-9e32-84970e94bf1a",
   "metadata": {},
   "outputs": [],
   "source": [
    "data = \"Python_Expert\""
   ]
  },
  {
   "cell_type": "code",
   "execution_count": 7,
   "id": "10e0054b-83c3-4923-bd5b-1e1ebc434d11",
   "metadata": {},
   "outputs": [
    {
     "data": {
      "text/plain": [
       "'Expert'"
      ]
     },
     "execution_count": 7,
     "metadata": {},
     "output_type": "execute_result"
    }
   ],
   "source": [
    "data[-6:]"
   ]
  },
  {
   "cell_type": "code",
   "execution_count": 1,
   "id": "4c49f691-92ed-4ea7-b630-6ba60409068c",
   "metadata": {},
   "outputs": [],
   "source": [
    "var = \"Harry Potter\""
   ]
  },
  {
   "cell_type": "code",
   "execution_count": 2,
   "id": "17c333c1-9b0b-42ff-8a3e-b4b8c814e4e3",
   "metadata": {},
   "outputs": [
    {
     "data": {
      "text/plain": [
       "12"
      ]
     },
     "execution_count": 2,
     "metadata": {},
     "output_type": "execute_result"
    }
   ],
   "source": [
    "len(var)"
   ]
  },
  {
   "cell_type": "code",
   "execution_count": 3,
   "id": "7bf4f3b8-c28b-4ab5-a669-90bcc572c8dd",
   "metadata": {},
   "outputs": [
    {
     "data": {
      "text/plain": [
       "'H'"
      ]
     },
     "execution_count": 3,
     "metadata": {},
     "output_type": "execute_result"
    }
   ],
   "source": [
    "var[0] "
   ]
  },
  {
   "cell_type": "code",
   "execution_count": 6,
   "id": "2b3258f8-d780-4e32-ae4d-506c8fa5c2d9",
   "metadata": {},
   "outputs": [
    {
     "name": "stdin",
     "output_type": "stream",
     "text": [
      "Enter a name Falcon \n"
     ]
    },
    {
     "name": "stdout",
     "output_type": "stream",
     "text": [
      "FALCON FALCON FALCON \n",
      "falcon falcon falcon \n",
      "Falcon Falcon Falcon \n"
     ]
    }
   ],
   "source": [
    "user_ip = input(\"Enter a name\")\n",
    "print(user_ip.upper()*3)\n",
    "print(user_ip.lower()*3)\n",
    "print(user_ip.title()*3)"
   ]
  },
  {
   "cell_type": "code",
   "execution_count": 12,
   "id": "14f803c7-82a1-49fe-8312-d00c62f57fb1",
   "metadata": {},
   "outputs": [],
   "source": [
    "sentence = \"Python is powerful\""
   ]
  },
  {
   "cell_type": "code",
   "execution_count": 13,
   "id": "7ee6e879-b5a2-4bdd-be72-bc3a751f41cf",
   "metadata": {},
   "outputs": [
    {
     "name": "stdout",
     "output_type": "stream",
     "text": [
      "['Python', 'is', 'powerful']\n"
     ]
    }
   ],
   "source": [
    "lst1 = sentence.split(\" \") #store data in list \n",
    "print(lst1)"
   ]
  },
  {
   "cell_type": "code",
   "execution_count": 14,
   "id": "25e25d0a-c9b3-4423-906d-84346e0d9ede",
   "metadata": {},
   "outputs": [
    {
     "data": {
      "text/plain": [
       "'Python-is-powerful'"
      ]
     },
     "execution_count": 14,
     "metadata": {},
     "output_type": "execute_result"
    }
   ],
   "source": [
    "\"-\".join(lst1)"
   ]
  },
  {
   "cell_type": "code",
   "execution_count": 5,
   "id": "f63dd97d-809d-4a6a-be90-3b7e5542861e",
   "metadata": {},
   "outputs": [
    {
     "data": {
      "text/plain": [
       "7"
      ]
     },
     "execution_count": 5,
     "metadata": {},
     "output_type": "execute_result"
    }
   ],
   "source": [
    "haystack = \"banana,apple,orange\"\n",
    "haystack.index(\"apple\")"
   ]
  },
  {
   "cell_type": "code",
   "execution_count": 6,
   "id": "ead35ef0-6bae-4da8-819c-c92bbff51892",
   "metadata": {},
   "outputs": [
    {
     "data": {
      "text/plain": [
       "'banana,kiwi,orange'"
      ]
     },
     "execution_count": 6,
     "metadata": {},
     "output_type": "execute_result"
    }
   ],
   "source": [
    "haystack.replace(\"apple\",\"kiwi\")"
   ]
  },
  {
   "cell_type": "code",
   "execution_count": 11,
   "id": "14f430e4-642c-4a4a-b248-69cbd9f5da35",
   "metadata": {},
   "outputs": [],
   "source": [
    "messy = \"***Hello World***\" #dought"
   ]
  },
  {
   "cell_type": "code",
   "execution_count": 20,
   "id": "662904ae-30b3-4087-b909-64243f20bbeb",
   "metadata": {},
   "outputs": [
    {
     "name": "stdout",
     "output_type": "stream",
     "text": [
      " ***Hello World*** \n",
      "\n"
     ]
    }
   ],
   "source": [
    "clean = messy.strip(\"*\")\n",
    "print(clean)"
   ]
  },
  {
   "cell_type": "code",
   "execution_count": 49,
   "id": "790b54fe-f621-42ba-968d-3fb1a2955bce",
   "metadata": {},
   "outputs": [],
   "source": [
    "fileName = \"report.pdf\""
   ]
  },
  {
   "cell_type": "code",
   "execution_count": 53,
   "id": "6f37f634-4af9-401d-b417-706006a67b2a",
   "metadata": {},
   "outputs": [
    {
     "name": "stdout",
     "output_type": "stream",
     "text": [
      "File is Valid\n"
     ]
    }
   ],
   "source": [
    "if fileName.startswith(\"report\") and fileName.endswith(\".pdf\"):\n",
    "    print(\"File is Valid\")"
   ]
  },
  {
   "cell_type": "code",
   "execution_count": 54,
   "id": "922b0651-0cec-4824-a9bf-67f58c4dafea",
   "metadata": {},
   "outputs": [
    {
     "data": {
      "text/plain": [
       "'$$$$$$$$$$'"
      ]
     },
     "execution_count": 54,
     "metadata": {},
     "output_type": "execute_result"
    }
   ],
   "source": [
    "str1 = \"$\"\n",
    "str1*10"
   ]
  },
  {
   "cell_type": "code",
   "execution_count": 55,
   "id": "9e7537ca-0a36-4218-b925-8762e396202d",
   "metadata": {},
   "outputs": [],
   "source": [
    "item = \"Laptop\"\n",
    "price = 999.99"
   ]
  },
  {
   "cell_type": "code",
   "execution_count": 56,
   "id": "2dacf9af-bb65-4500-9727-6d078d72d5d0",
   "metadata": {},
   "outputs": [
    {
     "name": "stdout",
     "output_type": "stream",
     "text": [
      "Item : Laptop | price : 999.99\n"
     ]
    }
   ],
   "source": [
    "print(f\"Item : {item} | price : {price}\")"
   ]
  },
  {
   "cell_type": "markdown",
   "id": "3665172f-a98a-4d85-9033-2cb74bb6ac57",
   "metadata": {},
   "source": [
    "# Practice Questions: Lists\n",
    "\n",
    "1.\tCreation and Access: Create a list named planets containing the names of four planets. Print the entire list, and then print only the third planet using its index.\n",
    "2.\tModification and Deletion: Given the list tasks = [\"buy milk\", \"clean house\", \"pay bills\", \"wash car\"]. First, change the second item to \"buy bread\". Then, delete the last item using the del keyword. Print the final list.\n",
    "3.\tAppending and Inserting: Start with an empty list called schedule. Use the .append() method to add two items. Then, use the .insert() method to place a third item at the beginning (index 0). Print the resulting list.\n",
    "4.\tSlicing - Sublist: Given the list numbers = [10, 20, 30, 40, 50, 60], create and print a new list called middle containing only the elements 20,30,40, and 50 using slicing.\n",
    "5.\tIteration with for loop: Write a for loop to iterate over the list fruits = [\"apple\", \"banana\", \"cherry\"] and print each fruit name on a separate line.\n",
    "6.\tChecking for Membership: Write a conditional statement that checks if the string \"lemon\" is present in the list citrus = [\"orange\", \"grapefruit\", \"lime\"]. Print \"Lemon found!\" if true, otherwise print \"No lemon here.\"\n",
    "7.\tSorting and Reversing: Given scores = [95, 78, 88, 92, 85], use a method to sort the list in ascending order (in-place). Then, use another method to reverse the order of the sorted list. Print the final result.\n",
    "8.\tFinding and Counting: Given the list items = ['A', 'B', 'A', 'C', 'B', 'A']. Print the index of the first occurrence of 'C'. Then, print the total count of the element 'A'.\n",
    "9.\tList Copying (Shallow): Create a list original = [1, 2, 3]. Create a shallow copy of this list named new_list (do NOT use simple assignment =). Change the second element of new_list to 99. Print both original and new_list to show they are independent.\n",
    "10.\tNested Lists and Access: Create a list named matrix that contains two nested lists: the first nested list should be [1,2], and the second should be [3,4]. Write the code to access and print the number 4.\n"
   ]
  },
  {
   "cell_type": "code",
   "execution_count": 57,
   "id": "e3f48b44-9f41-4df6-8f1f-4f0b288ef748",
   "metadata": {},
   "outputs": [],
   "source": [
    "planet = [\"Earth\",\"Mars\",\"Saturn\",\"Venus\"]"
   ]
  },
  {
   "cell_type": "code",
   "execution_count": 58,
   "id": "83614714-523c-4396-a28a-cc16630e507d",
   "metadata": {},
   "outputs": [
    {
     "name": "stdout",
     "output_type": "stream",
     "text": [
      "['Earth', 'Mars', 'Saturn', 'Venus']\n"
     ]
    }
   ],
   "source": [
    "print(planet)"
   ]
  },
  {
   "cell_type": "code",
   "execution_count": 60,
   "id": "1fed0c4e-5c8a-4ebb-a2f0-04aeb41aca03",
   "metadata": {},
   "outputs": [
    {
     "data": {
      "text/plain": [
       "'Saturn'"
      ]
     },
     "execution_count": 60,
     "metadata": {},
     "output_type": "execute_result"
    }
   ],
   "source": [
    "planet[2]"
   ]
  },
  {
   "cell_type": "code",
   "execution_count": 61,
   "id": "2a4c6111-fd21-40d0-82d8-659f06eb6479",
   "metadata": {},
   "outputs": [],
   "source": [
    "tasks = [\"buy milk\", \"clean house\", \"pay bills\", \"wash car\"]\n",
    "tasks[1] = \"buy bread\""
   ]
  },
  {
   "cell_type": "code",
   "execution_count": 62,
   "id": "1c219ffb-0ee9-4fe2-97db-bb1b85416e51",
   "metadata": {},
   "outputs": [
    {
     "data": {
      "text/plain": [
       "['buy milk', 'buy bread', 'pay bills', 'wash car']"
      ]
     },
     "execution_count": 62,
     "metadata": {},
     "output_type": "execute_result"
    }
   ],
   "source": [
    "tasks"
   ]
  },
  {
   "cell_type": "code",
   "execution_count": 63,
   "id": "30cbfd02-04b1-4b30-9110-e853af4b5470",
   "metadata": {},
   "outputs": [],
   "source": [
    "del(tasks[3])"
   ]
  },
  {
   "cell_type": "code",
   "execution_count": 64,
   "id": "a5715377-2a97-489e-9449-06f34bcca1fe",
   "metadata": {},
   "outputs": [
    {
     "data": {
      "text/plain": [
       "['buy milk', 'buy bread', 'pay bills']"
      ]
     },
     "execution_count": 64,
     "metadata": {},
     "output_type": "execute_result"
    }
   ],
   "source": [
    "tasks"
   ]
  },
  {
   "cell_type": "code",
   "execution_count": 74,
   "id": "54a02d52-ad59-479f-918b-63b608e3a61c",
   "metadata": {},
   "outputs": [],
   "source": [
    "schedule = []"
   ]
  },
  {
   "cell_type": "code",
   "execution_count": 75,
   "id": "be1549dc-eb2c-4117-bbe4-17c826782b72",
   "metadata": {},
   "outputs": [],
   "source": [
    "schedule.append(\"Class\")"
   ]
  },
  {
   "cell_type": "code",
   "execution_count": 76,
   "id": "25f7cec2-c65d-4c76-975e-141d3703bcc2",
   "metadata": {},
   "outputs": [],
   "source": [
    "schedule.append(\"batminton Practice\")"
   ]
  },
  {
   "cell_type": "code",
   "execution_count": 77,
   "id": "d854d334-18f8-4357-8659-56578ff77d67",
   "metadata": {},
   "outputs": [],
   "source": [
    "schedule.insert(0,\"Running\")"
   ]
  },
  {
   "cell_type": "code",
   "execution_count": 78,
   "id": "5f872917-995c-4771-a071-2830f565e6b6",
   "metadata": {},
   "outputs": [
    {
     "data": {
      "text/plain": [
       "['Running', 'Class', 'batminton Practice']"
      ]
     },
     "execution_count": 78,
     "metadata": {},
     "output_type": "execute_result"
    }
   ],
   "source": [
    "schedule"
   ]
  },
  {
   "cell_type": "code",
   "execution_count": 79,
   "id": "74766fd0-14cf-46ad-8c39-8c533fad9f1d",
   "metadata": {},
   "outputs": [],
   "source": [
    "numbers = [10, 20, 30, 40, 50, 60]"
   ]
  },
  {
   "cell_type": "code",
   "execution_count": 82,
   "id": "24df2d41-ab74-44e2-9ca3-be19ed747690",
   "metadata": {},
   "outputs": [],
   "source": [
    "middle = numbers[1:5]"
   ]
  },
  {
   "cell_type": "code",
   "execution_count": 83,
   "id": "5ab895b7-81fe-40c2-9ca1-18f926616fa8",
   "metadata": {},
   "outputs": [
    {
     "data": {
      "text/plain": [
       "[20, 30, 40, 50]"
      ]
     },
     "execution_count": 83,
     "metadata": {},
     "output_type": "execute_result"
    }
   ],
   "source": [
    "middle"
   ]
  },
  {
   "cell_type": "code",
   "execution_count": 84,
   "id": "c7a030d2-4578-49fe-9af9-3c58f4d2e0c2",
   "metadata": {},
   "outputs": [],
   "source": [
    "fruits = [\"apple\", \"banana\", \"cherry\"]"
   ]
  },
  {
   "cell_type": "code",
   "execution_count": 85,
   "id": "b87abfde-ee2d-49ab-baff-2a70db64455d",
   "metadata": {},
   "outputs": [
    {
     "name": "stdout",
     "output_type": "stream",
     "text": [
      "apple\n",
      "banana\n",
      "cherry\n"
     ]
    }
   ],
   "source": [
    "for fruit in fruits:\n",
    "    print(fruit)"
   ]
  },
  {
   "cell_type": "code",
   "execution_count": 91,
   "id": "7a8824f2-7c6c-42f5-a934-c374893b8f3e",
   "metadata": {},
   "outputs": [],
   "source": [
    "citrus = [\"orange\", \"grapefruit\", \"lime\",\"lemon\"]"
   ]
  },
  {
   "cell_type": "code",
   "execution_count": 92,
   "id": "7aeaf02a-5ea2-4001-ab90-34bb0df775e0",
   "metadata": {},
   "outputs": [
    {
     "name": "stdout",
     "output_type": "stream",
     "text": [
      "Lemon present in list\n"
     ]
    }
   ],
   "source": [
    "if \"lemon\" in citrus:\n",
    "    print(\"Lemon present in list\")\n",
    "else:\n",
    "    print(\"Lemon is not present in list\")"
   ]
  },
  {
   "cell_type": "code",
   "execution_count": 93,
   "id": "453d1997-60ba-419e-ae51-a2450f98b561",
   "metadata": {},
   "outputs": [
    {
     "name": "stdout",
     "output_type": "stream",
     "text": [
      "yes\n"
     ]
    }
   ],
   "source": [
    "ans = \"yes\" if \"lemon\" in citrus else \"No\"\n",
    "print(ans)"
   ]
  },
  {
   "cell_type": "code",
   "execution_count": 94,
   "id": "9972df49-10bb-49f5-89bc-084e4aa14728",
   "metadata": {},
   "outputs": [],
   "source": [
    "scores = [95, 78, 88, 92, 85]"
   ]
  },
  {
   "cell_type": "code",
   "execution_count": 95,
   "id": "cb6665cd-7c41-4f73-82f8-7b0f716f542b",
   "metadata": {},
   "outputs": [],
   "source": [
    "scores.sort()"
   ]
  },
  {
   "cell_type": "code",
   "execution_count": 96,
   "id": "5a9769d5-7b75-4b9c-ab83-fba5ebcc39b4",
   "metadata": {},
   "outputs": [],
   "source": [
    "scores.reverse()"
   ]
  },
  {
   "cell_type": "code",
   "execution_count": 97,
   "id": "885af52c-81bd-41b1-9e48-cd49bd937801",
   "metadata": {},
   "outputs": [
    {
     "data": {
      "text/plain": [
       "[95, 92, 88, 85, 78]"
      ]
     },
     "execution_count": 97,
     "metadata": {},
     "output_type": "execute_result"
    }
   ],
   "source": [
    "scores"
   ]
  },
  {
   "cell_type": "code",
   "execution_count": 98,
   "id": "7f264582-1365-4702-980f-d3c60423a6d9",
   "metadata": {},
   "outputs": [],
   "source": [
    "items = ['A', 'B', 'A', 'C', 'B', 'A']"
   ]
  },
  {
   "cell_type": "code",
   "execution_count": 100,
   "id": "f2043de2-631f-4caa-a3c3-327a296c36bd",
   "metadata": {},
   "outputs": [
    {
     "data": {
      "text/plain": [
       "3"
      ]
     },
     "execution_count": 100,
     "metadata": {},
     "output_type": "execute_result"
    }
   ],
   "source": [
    "items.index(\"C\")"
   ]
  },
  {
   "cell_type": "code",
   "execution_count": 101,
   "id": "123cb89e-80b7-49a8-944b-6f95fdecef4c",
   "metadata": {},
   "outputs": [
    {
     "name": "stdout",
     "output_type": "stream",
     "text": [
      "Occurance of A in items is : 3\n"
     ]
    }
   ],
   "source": [
    "count = 0\n",
    "for i in items:\n",
    "    if \"A\" == i:\n",
    "        count += 1\n",
    "\n",
    "print(F\"Occurance of A in items is : {count}\")"
   ]
  },
  {
   "cell_type": "code",
   "execution_count": 102,
   "id": "bf0fc2e4-4b72-4671-b9cb-d09aab4d7801",
   "metadata": {},
   "outputs": [
    {
     "data": {
      "text/plain": [
       "3"
      ]
     },
     "execution_count": 102,
     "metadata": {},
     "output_type": "execute_result"
    }
   ],
   "source": [
    "items.count(\"A\")"
   ]
  },
  {
   "cell_type": "code",
   "execution_count": 107,
   "id": "ae3d20a7-82e0-4a9d-ae58-126d5f211807",
   "metadata": {},
   "outputs": [],
   "source": [
    "original = [1, 2, 3]"
   ]
  },
  {
   "cell_type": "code",
   "execution_count": 108,
   "id": "8c054801-834c-43fc-b95f-71bbf8fdb2c7",
   "metadata": {},
   "outputs": [],
   "source": [
    "new_list = original.copy()"
   ]
  },
  {
   "cell_type": "code",
   "execution_count": 109,
   "id": "9831fc4d-05cb-4388-9a76-730b18901079",
   "metadata": {},
   "outputs": [],
   "source": [
    "new_list[1] = 99"
   ]
  },
  {
   "cell_type": "code",
   "execution_count": 110,
   "id": "70954e2b-d497-4af4-a483-0aa6d05907e5",
   "metadata": {},
   "outputs": [
    {
     "name": "stdout",
     "output_type": "stream",
     "text": [
      " Original list : [1, 2, 3]\n",
      " New List : [1, 99, 3]\n"
     ]
    }
   ],
   "source": [
    "print(f\" Original list : {original}\")\n",
    "print(f\" New List : {new_list}\")"
   ]
  },
  {
   "cell_type": "code",
   "execution_count": 111,
   "id": "7e617f55-fe3a-4a95-bc82-426ed9ccd03f",
   "metadata": {},
   "outputs": [],
   "source": [
    "nest_l = [[1,2],[3,4]]"
   ]
  },
  {
   "cell_type": "code",
   "execution_count": 113,
   "id": "88ee1d17-de1d-4ad9-9362-469fa0996fea",
   "metadata": {},
   "outputs": [
    {
     "data": {
      "text/plain": [
       "4"
      ]
     },
     "execution_count": 113,
     "metadata": {},
     "output_type": "execute_result"
    }
   ],
   "source": [
    "nest_l[1][1]"
   ]
  },
  {
   "cell_type": "markdown",
   "id": "5a0b4aa3-c2fa-48f8-a0c6-07b7062e3a10",
   "metadata": {},
   "source": [
    "# Practice Questions: Tuples\n",
    "\n",
    "1.\tCreation and Immutability: Create a tuple named coordinates with the values (10,20). Write the code that would be used to try and change the second element to 30 (i.e., coordinates[1] = 30). What kind of error would this code produce?\n",
    "2.\tAccess and Length: Given the tuple alphabet = ('a', 'b', 'c', 'd', 'e'), print the total number of elements in the tuple. Then, access and print the second-to-last element using negative indexing.\n",
    "3.\tTuple Unpacking: Given the tuple student = (\"Alice\", 25, \"Physics\"), write a single line of code to unpack the values into three separate variables named name, age, and major. Print the value of major.\n",
    "4.\tSlicing: Given the tuple data = (100, 200, 300, 400, 500), extract and print a new tuple containing only the middle three elements: (200,300,400).\n",
    "5.\tSingle-Element Tuple: Write the correct Python syntax to create a tuple named single_item that contains only the string \"Hello\". Print the tuple and its type to verify its structure.\n",
    "6.\tNested Tuples: Given the tuple nested_data = ( (1, 2), (3, 4), (5, 6) ), write the code to access and print the number 4.\n",
    "7.\tLooping: Write a for loop to iterate over the tuple colors = ('red', 'green', 'blue') and print each element on a new line, along with its length.\n",
    "8.\tChecking for Existence: Write a conditional statement that checks if the value 42 is present in the tuple scores = (15, 22, 42, 38). Print \"Score found\" if it is, and \"Score not present\" otherwise.\n",
    "9.\tConverting to List: Given the tuple immutable_data = ('a', 'b', 'c'), convert it into a mutable list named mutable_list. Add the element 'd' to the end of mutable_list. Print the final list.\n",
    "10.\tFinding and Counting: Given the tuple path = ('N', 'E', 'S', 'W', 'N', 'E'), use the appropriate tuple methods to find the index of the first occurrence of 'S'. Then, print the total count of the element 'N'.\n"
   ]
  },
  {
   "cell_type": "code",
   "execution_count": null,
   "id": "d1426e37-0a13-4c1b-8d28-816489ae50d1",
   "metadata": {},
   "outputs": [],
   "source": [
    "coordinates = (10,20)"
   ]
  },
  {
   "cell_type": "code",
   "execution_count": 115,
   "id": "8cedff8b-e72b-4af3-a038-e9ed1f82eb02",
   "metadata": {},
   "outputs": [
    {
     "ename": "TypeError",
     "evalue": "'tuple' object does not support item assignment",
     "output_type": "error",
     "traceback": [
      "\u001b[31m---------------------------------------------------------------------------\u001b[39m",
      "\u001b[31mTypeError\u001b[39m                                 Traceback (most recent call last)",
      "\u001b[36mCell\u001b[39m\u001b[36m \u001b[39m\u001b[32mIn[115]\u001b[39m\u001b[32m, line 1\u001b[39m\n\u001b[32m----> \u001b[39m\u001b[32m1\u001b[39m \u001b[43mcoordinates\u001b[49m\u001b[43m[\u001b[49m\u001b[32;43m1\u001b[39;49m\u001b[43m]\u001b[49m = \u001b[32m30\u001b[39m\n",
      "\u001b[31mTypeError\u001b[39m: 'tuple' object does not support item assignment"
     ]
    }
   ],
   "source": [
    "coordinates[1] = 30 #mutation does not support and it will give typeerror"
   ]
  },
  {
   "cell_type": "code",
   "execution_count": 118,
   "id": "172e1cc5-6e4e-4388-9c08-b128f7b8df99",
   "metadata": {},
   "outputs": [],
   "source": [
    "alphabet = ('a', 'b', 'c', 'd', 'e')"
   ]
  },
  {
   "cell_type": "code",
   "execution_count": 119,
   "id": "d3a5fd4b-2330-4bd7-a5b7-3353862d4a81",
   "metadata": {},
   "outputs": [
    {
     "data": {
      "text/plain": [
       "5"
      ]
     },
     "execution_count": 119,
     "metadata": {},
     "output_type": "execute_result"
    }
   ],
   "source": [
    "len(alphabet)"
   ]
  },
  {
   "cell_type": "code",
   "execution_count": 120,
   "id": "429473ff-8a2a-4711-b8fc-ec07b87374aa",
   "metadata": {},
   "outputs": [
    {
     "data": {
      "text/plain": [
       "('b', 'c', 'd', 'e')"
      ]
     },
     "execution_count": 120,
     "metadata": {},
     "output_type": "execute_result"
    }
   ],
   "source": [
    "alphabet[-4:]"
   ]
  },
  {
   "cell_type": "code",
   "execution_count": 121,
   "id": "68ff3187-9145-4cee-9943-a7ceb32e0830",
   "metadata": {},
   "outputs": [],
   "source": [
    "student = (\"Alice\", 25, \"Physics\")"
   ]
  },
  {
   "cell_type": "code",
   "execution_count": 124,
   "id": "e4810b2e-0d6a-45ef-8d27-5ed0d024a8ff",
   "metadata": {},
   "outputs": [],
   "source": [
    "name, age, major = student"
   ]
  },
  {
   "cell_type": "code",
   "execution_count": 125,
   "id": "18c7a781-334f-451c-b7bd-aceda3ca63b7",
   "metadata": {},
   "outputs": [
    {
     "data": {
      "text/plain": [
       "'Alice'"
      ]
     },
     "execution_count": 125,
     "metadata": {},
     "output_type": "execute_result"
    }
   ],
   "source": [
    "name"
   ]
  },
  {
   "cell_type": "code",
   "execution_count": 126,
   "id": "fe358854-7fcd-4d4e-8bf4-d5e826ff96bf",
   "metadata": {},
   "outputs": [
    {
     "data": {
      "text/plain": [
       "'Physics'"
      ]
     },
     "execution_count": 126,
     "metadata": {},
     "output_type": "execute_result"
    }
   ],
   "source": [
    "major"
   ]
  },
  {
   "cell_type": "code",
   "execution_count": 127,
   "id": "b711ac63-0fcb-408b-96a4-74d5abb69d79",
   "metadata": {},
   "outputs": [],
   "source": [
    "data = (100, 200, 300, 400, 500)"
   ]
  },
  {
   "cell_type": "code",
   "execution_count": 130,
   "id": "f7468248-8cdb-4407-a6c5-205000bd13c7",
   "metadata": {},
   "outputs": [],
   "source": [
    "new_data = data[1:-1]"
   ]
  },
  {
   "cell_type": "code",
   "execution_count": 131,
   "id": "80870a10-4925-49ef-9262-7f0340281f33",
   "metadata": {},
   "outputs": [
    {
     "data": {
      "text/plain": [
       "(200, 300, 400)"
      ]
     },
     "execution_count": 131,
     "metadata": {},
     "output_type": "execute_result"
    }
   ],
   "source": [
    "new_data"
   ]
  },
  {
   "cell_type": "code",
   "execution_count": 136,
   "id": "05faf8e7-a1c8-4b6c-8440-ae55de98e905",
   "metadata": {},
   "outputs": [],
   "source": [
    "single_item = (\"Hello\",)\n",
    "item = (\"Hello\")"
   ]
  },
  {
   "cell_type": "code",
   "execution_count": 138,
   "id": "b83933ff-40b0-43b5-aa04-64c94999d570",
   "metadata": {},
   "outputs": [
    {
     "name": "stdout",
     "output_type": "stream",
     "text": [
      "<class 'tuple'>\n",
      "<class 'str'>\n"
     ]
    }
   ],
   "source": [
    "print(type(single_item))\n",
    "print(type(item))"
   ]
  },
  {
   "cell_type": "code",
   "execution_count": 139,
   "id": "a514ce7e-467b-43f7-9e06-37fa101920e2",
   "metadata": {},
   "outputs": [],
   "source": [
    "data = ( (1, 2), (3, 4), (5, 6) )"
   ]
  },
  {
   "cell_type": "code",
   "execution_count": 140,
   "id": "fa80de37-cfdb-412e-b021-e144549b3761",
   "metadata": {},
   "outputs": [
    {
     "data": {
      "text/plain": [
       "4"
      ]
     },
     "execution_count": 140,
     "metadata": {},
     "output_type": "execute_result"
    }
   ],
   "source": [
    "data[1][1]"
   ]
  },
  {
   "cell_type": "code",
   "execution_count": 141,
   "id": "2393617d-8d9c-45b2-9582-a8e85fb91d97",
   "metadata": {},
   "outputs": [],
   "source": [
    "colors = ('red', 'green', 'blue')"
   ]
  },
  {
   "cell_type": "code",
   "execution_count": 142,
   "id": "a9f940e7-323a-45b9-ab9d-d1a679bda4ac",
   "metadata": {},
   "outputs": [
    {
     "name": "stdout",
     "output_type": "stream",
     "text": [
      "red 3\n",
      "green 5\n",
      "blue 4\n"
     ]
    }
   ],
   "source": [
    "for i in colors:\n",
    "    print(i ,len(i))"
   ]
  },
  {
   "cell_type": "code",
   "execution_count": 1,
   "id": "7b33a783-31e9-4bc8-bcb4-9da300ecb935",
   "metadata": {},
   "outputs": [],
   "source": [
    "scores = (15, 22, 42, 38)"
   ]
  },
  {
   "cell_type": "code",
   "execution_count": 2,
   "id": "68140cf5-7501-4a6b-83f1-4d6b5d1bbb20",
   "metadata": {},
   "outputs": [],
   "source": [
    "result = \"Score found\" if 42 in scores else \"Score not found\""
   ]
  },
  {
   "cell_type": "code",
   "execution_count": 3,
   "id": "f459c662-c277-4391-b06a-7bfacaebda63",
   "metadata": {},
   "outputs": [
    {
     "name": "stdout",
     "output_type": "stream",
     "text": [
      "Score found\n"
     ]
    }
   ],
   "source": [
    "print(result)"
   ]
  },
  {
   "cell_type": "code",
   "execution_count": 4,
   "id": "556a162a-9a2f-4654-97fc-6d30007212af",
   "metadata": {},
   "outputs": [],
   "source": [
    "immutable_data = ('a', 'b', 'c')"
   ]
  },
  {
   "cell_type": "code",
   "execution_count": 5,
   "id": "6b76ddac-5433-4aa6-8e4f-bf463c1d5b2a",
   "metadata": {},
   "outputs": [],
   "source": [
    "mutable_list = list(immutable_data)"
   ]
  },
  {
   "cell_type": "code",
   "execution_count": 6,
   "id": "c419786a-82eb-4ba4-8013-705d6ca4cb4a",
   "metadata": {},
   "outputs": [],
   "source": [
    "mutable_list.append(\"d\")"
   ]
  },
  {
   "cell_type": "code",
   "execution_count": 7,
   "id": "ff93d3d7-15b9-44a8-81a1-2a17df638680",
   "metadata": {},
   "outputs": [
    {
     "data": {
      "text/plain": [
       "['a', 'b', 'c', 'd']"
      ]
     },
     "execution_count": 7,
     "metadata": {},
     "output_type": "execute_result"
    }
   ],
   "source": [
    "mutable_list"
   ]
  },
  {
   "cell_type": "code",
   "execution_count": 8,
   "id": "73f33aa3-0b41-4597-a611-2c3a98d858f9",
   "metadata": {},
   "outputs": [],
   "source": [
    "path = ('N', 'E', 'S', 'W', 'N', 'E')"
   ]
  },
  {
   "cell_type": "code",
   "execution_count": 10,
   "id": "c81bb9a0-8837-4c77-ac07-a6d2c3979edf",
   "metadata": {},
   "outputs": [
    {
     "data": {
      "text/plain": [
       "2"
      ]
     },
     "execution_count": 10,
     "metadata": {},
     "output_type": "execute_result"
    }
   ],
   "source": [
    "path.index(\"S\")"
   ]
  },
  {
   "cell_type": "code",
   "execution_count": 11,
   "id": "8e431fc0-0a3f-49f2-8359-8fdea4775e70",
   "metadata": {},
   "outputs": [
    {
     "data": {
      "text/plain": [
       "2"
      ]
     },
     "execution_count": 11,
     "metadata": {},
     "output_type": "execute_result"
    }
   ],
   "source": [
    "path.count(\"N\")"
   ]
  },
  {
   "cell_type": "markdown",
   "id": "83a816c5-4664-427f-a017-537c22e43c17",
   "metadata": {},
   "source": [
    "# Practice Questions: Dictionaries\n",
    "\n",
    "1.\tCreation and Access: Create a dictionary named inventory to store the count of three items: \"apples\" (30), \"bananas\" (15), and \"oranges\" (45). Write the code to access and print the count of \"oranges\".\n",
    "2.\tAdding and Updating: Start with the dictionary user = {'username': 'coder', 'level': 5}. Write the code to add a new key-value pair, 'score': 1000, and then update the value of 'level' to 6. Print the final dictionary.\n",
    "3.\tSafe Access (The .get() method): Given the dictionary config = {'timeout': 60, 'retries': 3}, write a print statement using the .get() method to retrieve the value for the key 'timeout'. Then, write another .get() call to retrieve a value for the non-existent key 'log_level', providing a default value of \"INFO\".\n",
    "4.\tRemoving Items (.pop()): Given the dictionary data = {'a': 10, 'b': 20, 'c': 30}, use the .pop() method to remove the key-value pair for key 'b'. Print the value that was removed and the resulting dictionary.\n",
    "5.\tIteration Over Keys: Write a for loop to iterate over the keys of the dictionary stock = {'coffee': 150, 'tea': 80, 'sugar': 200} and print each key (the item name) on a new line.\n",
    "6.\tIteration Over Values: Write a for loop to iterate over the values of the stock dictionary from Question 5 and calculate the total quantity of all items. Print the total.\n",
    "7.\tIteration Over Items: Write a for loop using the .items() method to iterate over both the key and value of stock. Inside the loop, print a sentence for each item in the format: \"The stock for [Key] is [Value].\"\n",
    "8.\tNested Dictionary Access: Given the nested dictionary project = {'name': 'WebApp', 'details': {'version': 1.2, 'status': 'complete'}}, write the code to access and print the value of the nested key 'version' (i.e., 1.2).\n",
    "9.\tDictionary Comprehension: Use a dictionary comprehension to create a new dictionary where the keys are the numbers 1,2,3,4, and 5, and the corresponding values are the square of the key. Print the resulting dictionary.\n",
    "10.\tUsing .keys() and Membership: Given the dictionary settings = {'theme': 'dark', 'font': 'sans-serif'}, use the .keys() method along with the in operator to check if the dictionary contains the key 'theme'. Print whether the key was found or not.\n",
    "\n"
   ]
  },
  {
   "cell_type": "code",
   "execution_count": 12,
   "id": "03a7fcc9-c31a-4cc8-9634-3c1abd974521",
   "metadata": {},
   "outputs": [],
   "source": [
    "# Creation and Access: Create a dictionary named inventory to store the count of three \n",
    "#items: \"apples\" (30), \"bananas\" (15), and \"oranges\" (45). Write the code to access and print the count of \"oranges\n",
    "\n",
    "inventry = {\"apples\" : 30,\"bananas\" : 15,\"oranges\" : 45}"
   ]
  },
  {
   "cell_type": "code",
   "execution_count": 16,
   "id": "48201457-9a88-46fb-8bea-4cae72e09b21",
   "metadata": {},
   "outputs": [
    {
     "data": {
      "text/plain": [
       "45"
      ]
     },
     "execution_count": 16,
     "metadata": {},
     "output_type": "execute_result"
    }
   ],
   "source": [
    "inventry[\"oranges\"]"
   ]
  },
  {
   "cell_type": "code",
   "execution_count": 17,
   "id": "1f2d1fa5-116e-4c3d-b9e3-77065fa38ef3",
   "metadata": {},
   "outputs": [],
   "source": [
    "# Que 2]\n",
    "user = {\"username\":\"Coder\",\"Level\":5}"
   ]
  },
  {
   "cell_type": "code",
   "execution_count": 19,
   "id": "d6b6aae4-04df-467d-8077-834a4a9ccd80",
   "metadata": {},
   "outputs": [],
   "source": [
    "user.update({\"score\":1000})"
   ]
  },
  {
   "cell_type": "code",
   "execution_count": 20,
   "id": "0b6db754-c734-4502-a7a8-81ee203137a4",
   "metadata": {},
   "outputs": [
    {
     "data": {
      "text/plain": [
       "{'username': 'Coder', 'Level': 5, 'score': 1000}"
      ]
     },
     "execution_count": 20,
     "metadata": {},
     "output_type": "execute_result"
    }
   ],
   "source": [
    "user"
   ]
  },
  {
   "cell_type": "code",
   "execution_count": 21,
   "id": "5798d81e-5e59-4ef9-9629-62583a7d2ae2",
   "metadata": {},
   "outputs": [],
   "source": [
    "user[\"Level\"] = 6"
   ]
  },
  {
   "cell_type": "code",
   "execution_count": 22,
   "id": "73592c78-8eed-4cb5-9114-9a4fe44465d7",
   "metadata": {},
   "outputs": [
    {
     "data": {
      "text/plain": [
       "{'username': 'Coder', 'Level': 6, 'score': 1000}"
      ]
     },
     "execution_count": 22,
     "metadata": {},
     "output_type": "execute_result"
    }
   ],
   "source": [
    "user"
   ]
  },
  {
   "cell_type": "code",
   "execution_count": 8,
   "id": "aac70ad7-df0e-4a71-ab7e-a5b88b6814b7",
   "metadata": {},
   "outputs": [],
   "source": [
    "# Que 3\n",
    "config = {'timeout': 60, 'retries': 3}"
   ]
  },
  {
   "cell_type": "code",
   "execution_count": 9,
   "id": "550272c1-26fe-48cd-80bc-57b3b72643c0",
   "metadata": {},
   "outputs": [
    {
     "name": "stdout",
     "output_type": "stream",
     "text": [
      "60\n"
     ]
    }
   ],
   "source": [
    "print(config.get(\"timeout\"))"
   ]
  },
  {
   "cell_type": "code",
   "execution_count": 20,
   "id": "70f22f04-1e7c-4c7a-a43b-f2c0b618721f",
   "metadata": {},
   "outputs": [
    {
     "data": {
      "text/plain": [
       "'INFO'"
      ]
     },
     "execution_count": 20,
     "metadata": {},
     "output_type": "execute_result"
    }
   ],
   "source": [
    "config.get(\"log_level\",\"INFO\")"
   ]
  },
  {
   "cell_type": "code",
   "execution_count": 9,
   "id": "40a57ec8-91e5-49b4-9388-e8306abc278f",
   "metadata": {},
   "outputs": [],
   "source": [
    "# que 4]\n",
    "data = {'a': 10, 'b': 20, 'c': 30}"
   ]
  },
  {
   "cell_type": "code",
   "execution_count": 10,
   "id": "3da4557f-1df7-4347-a0df-cb747bffa85e",
   "metadata": {},
   "outputs": [],
   "source": [
    "removed_val = data.pop(\"b\")"
   ]
  },
  {
   "cell_type": "code",
   "execution_count": 12,
   "id": "a2309e2a-ed60-4f7e-8069-d5f966a5952e",
   "metadata": {},
   "outputs": [
    {
     "name": "stdout",
     "output_type": "stream",
     "text": [
      "{'a': 10, 'c': 30}\n",
      "20\n"
     ]
    }
   ],
   "source": [
    "print(data)\n",
    "print(removed_val)"
   ]
  },
  {
   "cell_type": "code",
   "execution_count": 17,
   "id": "ea2f28e2-c132-47b6-8c96-4e3e8452655a",
   "metadata": {},
   "outputs": [
    {
     "name": "stdout",
     "output_type": "stream",
     "text": [
      "coffee\n",
      "tea\n",
      "sugar\n",
      "\n",
      "coffee : 150\n",
      "tea : 80\n",
      "sugar : 200\n"
     ]
    }
   ],
   "source": [
    "# Que 5\n",
    "stock = {'coffee': 150, 'tea': 80, 'sugar': 200} \n",
    "\n",
    "for i in stock:\n",
    "    print(i)\n",
    "\n",
    "print()\n",
    "\n",
    "for i in stock:\n",
    "    print(f\"{i} : {stock[i]}\")\n"
   ]
  },
  {
   "cell_type": "code",
   "execution_count": 21,
   "id": "96b8a41b-d17f-46c8-b858-33dff8070d83",
   "metadata": {},
   "outputs": [
    {
     "name": "stdout",
     "output_type": "stream",
     "text": [
      " Total Items : 430\n"
     ]
    }
   ],
   "source": [
    "# que 6 - referal the data from que 5\n",
    "total_items = 0\n",
    "for i in stock:\n",
    "    total_items += stock[i]\n",
    "\n",
    "print(F\" Total Items : {total_items}\")\n",
    "    "
   ]
  },
  {
   "cell_type": "code",
   "execution_count": 25,
   "id": "b2a179f9-49a2-42c6-abdc-631e26e7e76c",
   "metadata": {},
   "outputs": [
    {
     "name": "stdout",
     "output_type": "stream",
     "text": [
      "('coffee', 150)\n",
      "('tea', 80)\n",
      "('sugar', 200)\n",
      "\n",
      "The stock for coffee is 150.\n",
      "The stock for tea is 80.\n",
      "The stock for sugar is 200.\n"
     ]
    }
   ],
   "source": [
    "# Que 7 -\n",
    "for i in stock.items():\n",
    "    print(i)\n",
    "\n",
    "print()\n",
    "\n",
    "for j in stock:\n",
    "    print(f\"The stock for {j} is {stock[j]}.\")"
   ]
  },
  {
   "cell_type": "code",
   "execution_count": 30,
   "id": "ebbe1f70-be41-4a4b-a46a-0aa3e8192a3a",
   "metadata": {},
   "outputs": [
    {
     "data": {
      "text/plain": [
       "1.2"
      ]
     },
     "execution_count": 30,
     "metadata": {},
     "output_type": "execute_result"
    }
   ],
   "source": [
    "# que 8-\n",
    "project = {'name': 'WebApp', 'details': {'version': 1.2, 'status': 'complete'}}\n",
    "\n",
    "# print version i.e 1.2\n",
    "project[\"details\"][\"version\"]"
   ]
  },
  {
   "cell_type": "code",
   "execution_count": 31,
   "id": "1b7d3133-b838-4f36-9a84-9ed92e875df2",
   "metadata": {},
   "outputs": [],
   "source": [
    "# Que 9- Dictionary Comprehension: Use a dictionary comprehension to create a new dictionary where the keys are the numbers 1,2,3,4, and 5,\n",
    "# and the corresponding values are the square of the key. Print the resulting dictionary.\n",
    "\n",
    "square = {i:i**2 for i in range(1,6)}"
   ]
  },
  {
   "cell_type": "code",
   "execution_count": 32,
   "id": "a2889a3c-6cdf-4f57-8dd6-5e5c9a0c8d8f",
   "metadata": {},
   "outputs": [
    {
     "data": {
      "text/plain": [
       "{1: 1, 2: 4, 3: 9, 4: 16, 5: 25}"
      ]
     },
     "execution_count": 32,
     "metadata": {},
     "output_type": "execute_result"
    }
   ],
   "source": [
    "square"
   ]
  },
  {
   "cell_type": "code",
   "execution_count": 33,
   "id": "f406200e-8307-4bcb-a3c1-58ba96465083",
   "metadata": {},
   "outputs": [
    {
     "data": {
      "text/plain": [
       "dict"
      ]
     },
     "execution_count": 33,
     "metadata": {},
     "output_type": "execute_result"
    }
   ],
   "source": [
    "type(square)"
   ]
  },
  {
   "cell_type": "code",
   "execution_count": 34,
   "id": "4e6acb1d-ca3c-4383-8560-52b3ff0ebef7",
   "metadata": {},
   "outputs": [
    {
     "name": "stdout",
     "output_type": "stream",
     "text": [
      "Key was fond\n"
     ]
    }
   ],
   "source": [
    "# Que 10-\n",
    "settings = {'theme': 'dark', 'font': 'sans-serif'}\n",
    "\n",
    "if \"theme\" in settings.keys():\n",
    "    print(\"Key was fond\")\n",
    "else:\n",
    "    print(\"Key was not found\")"
   ]
  },
  {
   "cell_type": "markdown",
   "id": "55d315f3-28fb-45a5-aac1-d3284a84ca7c",
   "metadata": {},
   "source": [
    "# Practice Questions: Sets\n",
    "1.\tCreation and Uniqueness: Create a set named unique_numbers from the following list: [5, 2, 5, 8, 2, 1]. Print the resulting set and explain why it has fewer elements than the starting list.\n",
    "2.\tAdding and Removing: Start with the set letters = {'a', 'b'}. Use a method to add the element 'c'. Then, use the .discard() method to remove the element 'a'. Print the final set.\n",
    "3.\tUnion Operation: Given set_a = {1, 2, 3} and set_b = {3, 4, 5}, write the code to compute and print the union of the two sets using the pipe operator (|).\n",
    "4.\tIntersection Operation: Given the same sets from Question 3, write the code to compute and print the intersection of the two sets, showing the common element(s).\n",
    "5.\tDifference Operation: Given all_chars = {'a', 'b', 'c', 'd'} and vowels = {'a', 'e', 'i'}, write the code to find and print the set containing elements in all_chars but not in vowels (i.e., the difference).\n",
    "6.\tSymmetric Difference: Given list1 = [1, 2, 3, 4] and list2 = [3, 4, 5, 6]. Convert both lists to sets and then compute the symmetric difference (^) between them. Print the result.\n",
    "7.\tChecking Subsets: Write a conditional statement to check if small_set = {10, 20} is a subset of large_set = {10, 20, 30, 40}. Print a message indicating whether the condition is True or False.\n",
    "8.\tConverting from Tuple: Given a tuple of duplicate names: names_tuple = (\"Tom\", \"Sam\", \"Tom\", \"Jane\", \"Sam\"). Convert this tuple to a set to eliminate duplicates, then convert the result back to a list to get a sequence of unique names. Print the final unique list.\n",
    "9.\tSet Mutability (Conceptual): Explain in one sentence why a list, which is a mutable type, cannot be an element of a set (e.g., my_set = {1, [2, 3]}).\n",
    "10.\tSet Comprehension: Use a set comprehension to create a set containing the squares of all odd numbers between 1 and 10 (inclusive). Print the resulting set.\n",
    "\n"
   ]
  },
  {
   "cell_type": "code",
   "execution_count": 37,
   "id": "f11b3c54-83e8-4074-9645-5e9b20c06cc9",
   "metadata": {},
   "outputs": [
    {
     "name": "stdout",
     "output_type": "stream",
     "text": [
      "{8, 1, 2, 5}\n"
     ]
    }
   ],
   "source": [
    "# Que_1\n",
    "# set does not store duplicate values\n",
    "unique_num = {5,2,5,8,2,1}\n",
    "print(unique_num)"
   ]
  },
  {
   "cell_type": "code",
   "execution_count": 42,
   "id": "d9996d35-dae7-42b5-bf39-5fd1c626fd39",
   "metadata": {},
   "outputs": [
    {
     "name": "stdout",
     "output_type": "stream",
     "text": [
      "{'a', 'b', 'c'}\n"
     ]
    }
   ],
   "source": [
    "# Que_2\n",
    "letters = {\"a\",\"b\"}\n",
    "\n",
    "letters.add(\"c\")\n",
    "\n",
    "print(letters)"
   ]
  },
  {
   "cell_type": "code",
   "execution_count": 43,
   "id": "93ebe38a-dde8-4bdf-adeb-39fd5747171c",
   "metadata": {},
   "outputs": [],
   "source": [
    "letters.discard(\"a\")"
   ]
  },
  {
   "cell_type": "code",
   "execution_count": 44,
   "id": "5de43c4b-e872-464a-9e9a-36f04854b29e",
   "metadata": {},
   "outputs": [
    {
     "data": {
      "text/plain": [
       "{'b', 'c'}"
      ]
     },
     "execution_count": 44,
     "metadata": {},
     "output_type": "execute_result"
    }
   ],
   "source": [
    "letters"
   ]
  },
  {
   "cell_type": "code",
   "execution_count": 45,
   "id": "0ff07d5b-7c8c-48a4-84bd-14b9e64a7b01",
   "metadata": {},
   "outputs": [
    {
     "data": {
      "text/plain": [
       "{1, 2, 3, 4, 5}"
      ]
     },
     "execution_count": 45,
     "metadata": {},
     "output_type": "execute_result"
    }
   ],
   "source": [
    "set_a = {1,2,3}\n",
    "set_b = {3,4,5}\n",
    "\n",
    "set_a.union(set_b)"
   ]
  },
  {
   "cell_type": "code",
   "execution_count": 47,
   "id": "10d26106-e522-4dde-ba9f-fa2d39e0175c",
   "metadata": {},
   "outputs": [
    {
     "name": "stdout",
     "output_type": "stream",
     "text": [
      "union : {1, 2, 3, 4, 5}\n"
     ]
    }
   ],
   "source": [
    "print(F\"union : {set_a | set_b}\")"
   ]
  },
  {
   "cell_type": "code",
   "execution_count": 48,
   "id": "7c4616e1-441e-4271-bf4c-20a1768228fa",
   "metadata": {},
   "outputs": [
    {
     "data": {
      "text/plain": [
       "{3}"
      ]
     },
     "execution_count": 48,
     "metadata": {},
     "output_type": "execute_result"
    }
   ],
   "source": [
    "set_a.intersection(set_b)"
   ]
  },
  {
   "cell_type": "code",
   "execution_count": 49,
   "id": "76a54a2d-d8ec-4320-8789-3be330c1a4c4",
   "metadata": {},
   "outputs": [
    {
     "data": {
      "text/plain": [
       "{'b', 'c', 'd'}"
      ]
     },
     "execution_count": 49,
     "metadata": {},
     "output_type": "execute_result"
    }
   ],
   "source": [
    "all_char = {\"a\",\"b\",\"c\",\"d\"}\n",
    "vowel = {\"a\",\"e\",\"i\"}\n",
    "\n",
    "all_char.difference(vowel)"
   ]
  },
  {
   "cell_type": "code",
   "execution_count": 50,
   "id": "4efa5160-48ea-43d4-b8a6-e2d448c4a339",
   "metadata": {},
   "outputs": [
    {
     "data": {
      "text/plain": [
       "{'b', 'c', 'd'}"
      ]
     },
     "execution_count": 50,
     "metadata": {},
     "output_type": "execute_result"
    }
   ],
   "source": [
    "all_char - vowel"
   ]
  },
  {
   "cell_type": "code",
   "execution_count": 52,
   "id": "a751eba5-ac1e-45af-9ddc-ce285c483208",
   "metadata": {},
   "outputs": [
    {
     "name": "stdout",
     "output_type": "stream",
     "text": [
      "{1, 2, 5, 6}\n"
     ]
    }
   ],
   "source": [
    "list1 = [1,2,3,4]\n",
    "list2 = [3,4,5,6]\n",
    "\n",
    "ans = set(list1) ^ set(list2)\n",
    "print(ans)"
   ]
  },
  {
   "cell_type": "code",
   "execution_count": 53,
   "id": "e3d52e0d-24b2-4811-b7f0-fd7b0c355cf2",
   "metadata": {},
   "outputs": [
    {
     "data": {
      "text/plain": [
       "True"
      ]
     },
     "execution_count": 53,
     "metadata": {},
     "output_type": "execute_result"
    }
   ],
   "source": [
    "small_set = {10,20}\n",
    "large_set = {10,20,30,40}\n",
    "\n",
    "#checking whether subset or not\n",
    "small_set.issubset(large_set)"
   ]
  },
  {
   "cell_type": "code",
   "execution_count": 56,
   "id": "a3dd3acc-6481-4404-8297-a2da1e0dd7dd",
   "metadata": {},
   "outputs": [
    {
     "data": {
      "text/plain": [
       "['Tom', 'Jane', 'Sam']"
      ]
     },
     "execution_count": 56,
     "metadata": {},
     "output_type": "execute_result"
    }
   ],
   "source": [
    "names_tuple = (\"Tom\", \"Sam\", \"Tom\", \"Jane\", \"Sam\")\n",
    "final_list = list(set(names_tuple))\n",
    "final_list"
   ]
  },
  {
   "cell_type": "code",
   "execution_count": 59,
   "id": "c7ed6aba-ca4f-46a2-81a4-377ef14fd9aa",
   "metadata": {},
   "outputs": [
    {
     "ename": "TypeError",
     "evalue": "unhashable type: 'list'",
     "output_type": "error",
     "traceback": [
      "\u001b[31m---------------------------------------------------------------------------\u001b[39m",
      "\u001b[31mTypeError\u001b[39m                                 Traceback (most recent call last)",
      "\u001b[36mCell\u001b[39m\u001b[36m \u001b[39m\u001b[32mIn[59]\u001b[39m\u001b[32m, line 1\u001b[39m\n\u001b[32m----> \u001b[39m\u001b[32m1\u001b[39m my_set = {\u001b[32m1\u001b[39m,[\u001b[32m2\u001b[39m,\u001b[32m3\u001b[39m]}\n",
      "\u001b[31mTypeError\u001b[39m: unhashable type: 'list'"
     ]
    }
   ],
   "source": [
    "my_set = {1,[2,3]}"
   ]
  },
  {
   "cell_type": "markdown",
   "id": "5d433b95-003c-42d5-b5cb-3dd759f262b2",
   "metadata": {},
   "source": [
    "sets are immutable and list are mutable of if we store list in sets the values can be change\n",
    "Sets can only store hashable (immutable) objects"
   ]
  },
  {
   "cell_type": "code",
   "execution_count": 61,
   "id": "f2449ec5-6afc-4d18-a0f5-2d96c86ffbe2",
   "metadata": {},
   "outputs": [],
   "source": [
    "square_set = {i**2 for i in range(0,11) if i % 2 != 0}"
   ]
  },
  {
   "cell_type": "code",
   "execution_count": 62,
   "id": "b0768f78-3a06-4237-86ff-6c4965527ecc",
   "metadata": {},
   "outputs": [
    {
     "data": {
      "text/plain": [
       "{1, 9, 25, 49, 81}"
      ]
     },
     "execution_count": 62,
     "metadata": {},
     "output_type": "execute_result"
    }
   ],
   "source": [
    "square_set"
   ]
  },
  {
   "cell_type": "code",
   "execution_count": null,
   "id": "b92b9b82-3b91-4e5a-9234-c95d66f7566a",
   "metadata": {},
   "outputs": [],
   "source": []
  }
 ],
 "metadata": {
  "kernelspec": {
   "display_name": "Python 3 (ipykernel)",
   "language": "python",
   "name": "python3"
  },
  "language_info": {
   "codemirror_mode": {
    "name": "ipython",
    "version": 3
   },
   "file_extension": ".py",
   "mimetype": "text/x-python",
   "name": "python",
   "nbconvert_exporter": "python",
   "pygments_lexer": "ipython3",
   "version": "3.13.7"
  }
 },
 "nbformat": 4,
 "nbformat_minor": 5
}
