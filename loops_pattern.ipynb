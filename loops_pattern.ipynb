{
 "cells": [
  {
   "cell_type": "markdown",
   "id": "0bce6423-fc17-43cf-9a71-98472a385640",
   "metadata": {},
   "source": [
    "# Pyramid"
   ]
  },
  {
   "cell_type": "code",
   "execution_count": 36,
   "id": "a6fd1460-bcdc-4530-9c44-4e53760fb2f2",
   "metadata": {},
   "outputs": [
    {
     "name": "stdout",
     "output_type": "stream",
     "text": [
      "          * \n",
      "        * * * \n",
      "      * * * * * \n",
      "    * * * * * * * \n",
      "  * * * * * * * * * \n"
     ]
    }
   ],
   "source": [
    "n = 1\n",
    "m = 5\n",
    "for i in range(0,5):\n",
    "    for j in range(0,m):\n",
    "        print(\" \",end = \" \")\n",
    "    for k in range(0,n):\n",
    "        print(\"*\",end = \" \")\n",
    "    n+=2\n",
    "    m-=1\n",
    "    print()"
   ]
  },
  {
   "cell_type": "markdown",
   "id": "5aa7f901-4ae5-4965-b9e8-dc7d85bf7895",
   "metadata": {},
   "source": [
    " # Right angle triangle"
   ]
  },
  {
   "cell_type": "code",
   "execution_count": 17,
   "id": "71427f96-a9e4-458c-a923-35bd3fd6c99d",
   "metadata": {},
   "outputs": [
    {
     "name": "stdout",
     "output_type": "stream",
     "text": [
      "        \n",
      "       * \n",
      "      * * \n",
      "     * * * \n",
      "    * * * * \n",
      "   * * * * * \n",
      "  * * * * * * \n",
      " * * * * * * * \n"
     ]
    }
   ],
   "source": [
    "for i in range(1,9): #decide number of rows\n",
    "    for k in range(0,9-i):\n",
    "        print(\" \",end=\"\")\n",
    "    for j in range(1,i):\n",
    "        print(\"*\",end=\" \")\n",
    "    print()"
   ]
  },
  {
   "cell_type": "markdown",
   "id": "b85dc305-5783-40ba-906f-acf66ce531a1",
   "metadata": {},
   "source": [
    "# Nmber right angle triangle"
   ]
  },
  {
   "cell_type": "code",
   "execution_count": 10,
   "id": "67bc31e8-a525-472f-8866-d3614208d24e",
   "metadata": {},
   "outputs": [
    {
     "name": "stdout",
     "output_type": "stream",
     "text": [
      "\n",
      "1 \n",
      "1 2 \n",
      "1 2 3 \n",
      "1 2 3 4 \n"
     ]
    }
   ],
   "source": [
    "for i in range(1,6):\n",
    "    for j in range(1,i):\n",
    "        print(j,end =\" \")\n",
    "    print()"
   ]
  },
  {
   "cell_type": "markdown",
   "id": "64fcc22b-d6c8-420b-9b62-69481f8836c8",
   "metadata": {},
   "source": [
    "# Inverted right angle triangle"
   ]
  },
  {
   "cell_type": "code",
   "execution_count": 34,
   "id": "978158b8-fc1a-4981-9cf5-c30f092d51f0",
   "metadata": {},
   "outputs": [
    {
     "name": "stdout",
     "output_type": "stream",
     "text": [
      "* * * * * \n",
      "* * * * \n",
      "* * * \n",
      "* * \n",
      "* \n",
      "\n"
     ]
    }
   ],
   "source": [
    "m = 6\n",
    "for i in range(1,7):\n",
    "    for j in range(1,m):\n",
    "        print(\"*\",end =\" \")\n",
    "    print()\n",
    "    m-=1\n"
   ]
  },
  {
   "cell_type": "markdown",
   "id": "b1849926-adc2-495b-9965-128ea3a22ff0",
   "metadata": {},
   "source": [
    "# Inverted pyramid"
   ]
  },
  {
   "cell_type": "code",
   "execution_count": 31,
   "id": "16813dc3-4e4a-4e0b-8624-adc324b9e5e5",
   "metadata": {},
   "outputs": [
    {
     "name": "stdout",
     "output_type": "stream",
     "text": [
      "* * * * * * \n",
      " * * * * * \n",
      "  * * * * \n",
      "   * * * \n",
      "    * * \n",
      "     * \n"
     ]
    }
   ],
   "source": [
    "n = 6\n",
    "m = 0\n",
    "for i in range(0,6):\n",
    "    for k in range(0,m): #first printing spaces \n",
    "        print(\" \",end=\"\")\n",
    "    for j in range(0,n): #then printing stars\n",
    "        print(\"*\",end = \" \")\n",
    "    print()\n",
    "    n-=1\n",
    "    m+=1"
   ]
  },
  {
   "cell_type": "markdown",
   "id": "9f1566ad-01ad-431b-b3f1-f54cd7659da2",
   "metadata": {},
   "source": [
    "# Diamond pattern"
   ]
  },
  {
   "cell_type": "code",
   "execution_count": null,
   "id": "b8526f6c-e9aa-435d-a330-4da56309e129",
   "metadata": {},
   "outputs": [],
   "source": [
    "# upper triangle\n",
    "n = 1\n",
    "m = 5\n",
    "for i in range(0,6):\n",
    "    for j in range(0,m):\n",
    "        print(\" \",end=\"\")\n",
    "    for k in range(0,n):\n",
    "        print(\"*\",end=\" \")\n",
    "    m-=1\n",
    "    n+=1\n",
    "    print()\n",
    "\n",
    "#Lower Inverted Triangle\n",
    "x = 5\n",
    "y = 0\n",
    "for i in range(0,6):\n",
    "    print(\" \",end=\"\")\n",
    "    for k in range(0,y): #first printing spaces \n",
    "        print(\" \",end=\"\")\n",
    "    for j in range(0,x): #then printing stars\n",
    "        print(\"*\",end = \" \")\n",
    "    print()\n",
    "    x-=1\n",
    "    y+=1"
   ]
  },
  {
   "cell_type": "markdown",
   "id": "2c69e80a-8425-4cbe-b9a4-ec6948f9eaaa",
   "metadata": {},
   "source": [
    "# Floyd’s Triangle"
   ]
  },
  {
   "cell_type": "code",
   "execution_count": 51,
   "id": "d9bae864-edda-4ade-873a-545a4eba9392",
   "metadata": {},
   "outputs": [
    {
     "name": "stdout",
     "output_type": "stream",
     "text": [
      "1 \n",
      "2 3 \n",
      "3 4 5 \n",
      "4 5 6 7 \n",
      "5 6 7 8 9 \n"
     ]
    }
   ],
   "source": [
    "for i in range(1,6):\n",
    "    for j in range(0,i):\n",
    "        print(j+i,end=\" \")\n",
    "    print()"
   ]
  },
  {
   "cell_type": "markdown",
   "id": "3c97c836-0c8f-4d9f-bcdc-dc67eb84aa92",
   "metadata": {},
   "source": [
    "# Palindrome number Pyramid"
   ]
  },
  {
   "cell_type": "code",
   "execution_count": 81,
   "id": "164dca07-b49d-4597-99ca-44dff95d14b2",
   "metadata": {},
   "outputs": [
    {
     "name": "stdout",
     "output_type": "stream",
     "text": [
      "     1\n",
      "    121\n",
      "   12321\n",
      "  1234321\n",
      " 123454321\n"
     ]
    }
   ],
   "source": [
    "m = 1\n",
    "n = 5\n",
    "for i in range(1,6):\n",
    "    for s in range(0,n):\n",
    "        print(\" \",end=\"\")\n",
    "    for j in range(1,i+1):\n",
    "        print(j,end=\"\")\n",
    "    for k in range(m,1,-1):\n",
    "        print(k-1,end=\"\")\n",
    "    print()\n",
    "    m+=1\n",
    "    n-=1"
   ]
  },
  {
   "cell_type": "markdown",
   "id": "3b668a5d-5fe2-4829-9610-80347eb608c5",
   "metadata": {},
   "source": [
    "# Hallow Square"
   ]
  },
  {
   "cell_type": "code",
   "execution_count": 112,
   "id": "14589e4e-d082-4725-9156-493a8ccb58bd",
   "metadata": {},
   "outputs": [
    {
     "name": "stdout",
     "output_type": "stream",
     "text": [
      "* * * * * \n",
      "*       *       \n",
      "*       *       \n",
      "*       *       \n",
      "* * * * * "
     ]
    }
   ],
   "source": [
    "n = 5\n",
    "for i in range(0,n):\n",
    "    print(\"*\",end= \" \")\n",
    "print()\n",
    "for j in range(0,n-2):\n",
    "    for k in range(0,2):\n",
    "       print(\"*\",\" \"*6,end = \"\")\n",
    "    print()\n",
    "for i in range(0,n):\n",
    "    print(\"*\",end= \" \")\n",
    "    "
   ]
  },
  {
   "cell_type": "markdown",
   "id": "fa8cca30-0b9b-4cf5-aa86-e49e6aeafcde",
   "metadata": {},
   "source": [
    "# Butterfly Pattern"
   ]
  },
  {
   "cell_type": "code",
   "execution_count": 136,
   "id": "fc0f19bc-8e84-4dae-bf60-6061e40c2621",
   "metadata": {},
   "outputs": [
    {
     "name": "stdout",
     "output_type": "stream",
     "text": [
      "*        *\n",
      "**      **\n",
      "***    ***\n",
      "****  ****\n",
      "**********\n",
      "****  ****\n",
      "***    ***\n",
      "**      **\n",
      "*        *\n",
      "          \n"
     ]
    }
   ],
   "source": [
    "#upper part\n",
    "n = 8\n",
    "m = 2\n",
    "for i in range(0,5):\n",
    "    for j in range(0,m-1):\n",
    "        print(\"*\",end=\"\")\n",
    "    for k in range(0,n):\n",
    "        print(\" \",end=\"\")\n",
    "    for l in range(0,m-1):\n",
    "        print(\"*\",end=\"\")\n",
    "    print()\n",
    "    n-=2\n",
    "    m+=1\n",
    "\n",
    "#lower part\n",
    "n = 4\n",
    "m = 2\n",
    "for i in range(0,5):\n",
    "    for j in range(0,n):\n",
    "        print(\"*\",end=\"\")\n",
    "    for k in range(0,m):\n",
    "        print(\" \",end=\"\")\n",
    "    for l in range(0,n):\n",
    "        print(\"*\",end=\"\")\n",
    "    print()\n",
    "    n-=1\n",
    "    m+=2\n",
    "    "
   ]
  },
  {
   "cell_type": "markdown",
   "id": "77ebf4d4-bc5a-48be-a101-5698d8472ddd",
   "metadata": {},
   "source": [
    "# 06-10-2025 Problems on pattern"
   ]
  },
  {
   "cell_type": "code",
   "execution_count": 1,
   "id": "93e5b9ff-df8a-46ee-a6f0-ab63e8b358ca",
   "metadata": {},
   "outputs": [
    {
     "name": "stdout",
     "output_type": "stream",
     "text": [
      "Jupyter Notebook"
     ]
    }
   ],
   "source": [
    "str_var = \"Jupyter Notebook\"\n",
    "a = 0\n",
    "while a < len(str_var):\n",
    "    print(str_var[a],end=\"\")\n",
    "    a+=1"
   ]
  },
  {
   "cell_type": "markdown",
   "id": "31309b95-8104-4cac-b580-b52110bf13d3",
   "metadata": {},
   "source": [
    "# Hourglass Pattern"
   ]
  },
  {
   "cell_type": "code",
   "execution_count": 25,
   "id": "62631479-b75a-493c-bada-cdf964bec469",
   "metadata": {},
   "outputs": [
    {
     "name": "stdout",
     "output_type": "stream",
     "text": [
      "* * * * * \n",
      " * * * * \n",
      "  * * * \n",
      "   * * \n",
      "    * \n",
      "   * * \n",
      "  * * * \n",
      " * * * * \n",
      "* * * * * \n"
     ]
    }
   ],
   "source": [
    "#upper part\n",
    "for i in range(0,5):\n",
    "    for j in range(0,i):\n",
    "        print(\" \",end=\"\")\n",
    "    for k in range(0,5-i):\n",
    "        print(\"*\",end=\" \")\n",
    "    print()\n",
    "\n",
    "#Lower part\n",
    "l=2\n",
    "r=3\n",
    "for m in range(0,4):\n",
    "    for m in range(0,r):\n",
    "        print(\" \",end=\"\")\n",
    "    for o in range(0,l):\n",
    "        print(\"*\",end=\" \")\n",
    "    l+=1\n",
    "    r-=1\n",
    "    print()"
   ]
  },
  {
   "cell_type": "markdown",
   "id": "386d9040-6328-4dae-bfd9-29368e59a5ac",
   "metadata": {},
   "source": [
    "# Diamond"
   ]
  },
  {
   "cell_type": "code",
   "execution_count": 23,
   "id": "1bed3c9e-92f4-4b6a-a29b-bf21d5e33cc0",
   "metadata": {},
   "outputs": [
    {
     "name": "stdout",
     "output_type": "stream",
     "text": [
      "     * \n",
      "    * * \n",
      "   * * * \n",
      "  * * * * \n",
      " * * * * * \n",
      "  * * * * \n",
      "   * * * \n",
      "    * * \n",
      "     * \n"
     ]
    }
   ],
   "source": [
    "#upper part \n",
    "for i in range(0,5):\n",
    "    for j in range(0,5-i):\n",
    "        print(\" \",end=\"\")\n",
    "    for k in range(0,i+1):\n",
    "        print(\"*\",end=\" \")\n",
    "    print()\n",
    "\n",
    "#Lower part\n",
    "for i in range(0,4):\n",
    "    for j in range(0,i+2):\n",
    "        print(\" \",end=\"\")\n",
    "    for k in range(0,4-i):\n",
    "        print(\"*\",end=\" \")\n",
    "    print()"
   ]
  },
  {
   "cell_type": "markdown",
   "id": "26b604bb-6c82-4d2c-a87b-34858f142225",
   "metadata": {},
   "source": [
    "# Hallow Diamond"
   ]
  },
  {
   "cell_type": "code",
   "execution_count": 18,
   "id": "646412b2-4898-48fb-8fe6-e9f304985323",
   "metadata": {},
   "outputs": [
    {
     "name": "stdout",
     "output_type": "stream",
     "text": [
      "     *\n",
      "    * * \n",
      "   *   * \n",
      "  *     * \n",
      " *       * \n",
      "*         * \n",
      " *       * \n",
      "  *     * \n",
      "   *   * \n",
      "    * * \n",
      "     *\n"
     ]
    }
   ],
   "source": [
    "#upper part\n",
    "n = 4\n",
    "m = 0\n",
    "print(\" \"*4,\"*\")\n",
    "for i in range(0,5):\n",
    "    for j in range(0,n):\n",
    "        print(\" \",end=\"\")\n",
    "    print(\"*\",end=\" \")\n",
    "    for k in range(0,m):\n",
    "        print(\" \",end=\"\")\n",
    "    print(\"*\",end=\" \")\n",
    "    m+=2\n",
    "    n-=1\n",
    "    print()\n",
    "\n",
    "#lower part\n",
    "x = 1\n",
    "y = 6\n",
    "for i in range(0,4):\n",
    "    for i in range(0,x):\n",
    "        print(\" \",end=\"\")\n",
    "    print(\"*\",end=\" \")\n",
    "    for k in range(0,y):\n",
    "        print(\" \",end=\"\")\n",
    "    print(\"*\",end=\" \")\n",
    "    x+=1\n",
    "    y-=2\n",
    "    print()\n",
    "\n",
    "print(\" \"*4,\"*\")"
   ]
  },
  {
   "cell_type": "code",
   "execution_count": null,
   "id": "1746d8c8-b26c-4257-9aa8-bf6eac66203d",
   "metadata": {},
   "outputs": [],
   "source": []
  }
 ],
 "metadata": {
  "kernelspec": {
   "display_name": "Python 3 (ipykernel)",
   "language": "python",
   "name": "python3"
  },
  "language_info": {
   "codemirror_mode": {
    "name": "ipython",
    "version": 3
   },
   "file_extension": ".py",
   "mimetype": "text/x-python",
   "name": "python",
   "nbconvert_exporter": "python",
   "pygments_lexer": "ipython3",
   "version": "3.13.7"
  }
 },
 "nbformat": 4,
 "nbformat_minor": 5
}
